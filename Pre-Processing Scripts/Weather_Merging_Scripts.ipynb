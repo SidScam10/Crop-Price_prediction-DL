{
 "cells": [
  {
   "cell_type": "code",
   "execution_count": 1,
   "id": "2c548074",
   "metadata": {
    "ExecuteTime": {
     "end_time": "2025-08-03T08:41:24.282411Z",
     "start_time": "2025-08-03T08:41:24.220425Z"
    }
   },
   "outputs": [
    {
     "data": {
      "text/plain": [
       "array(['Dharmapuri', 'Pudukkottai', 'Thiruvellore', 'Salem', 'Madurai',\n",
       "       'Theni', 'Thiruvannamalai', 'Vellore', 'Ranipet', 'Ariyalur',\n",
       "       'Virudhunagar', 'Kancheepuram', 'Chengalpattu', 'Cuddalore',\n",
       "       'Dindigul', 'Krishnagiri', 'Sivaganga', 'Erode', 'Thirupur',\n",
       "       'Villupuram', 'The Nilgiris', 'Kallakuruchi', 'Thirunelveli',\n",
       "       'Karur', 'Thiruchirappalli', 'Tuticorin', 'Namakkal', 'Thanjavur',\n",
       "       'Coimbatore', 'Nagapattinam', 'Thiruvarur',\n",
       "       'Nagercoil (Kannyiakumari)', 'Thirupathur', 'Perambalur',\n",
       "       'Ramanathapuram', 'Tenkasi'], dtype=object)"
      ]
     },
     "execution_count": 1,
     "metadata": {},
     "output_type": "execute_result"
    }
   ],
   "source": [
    "import pandas as pd\n",
    "import requests\n",
    "import time\n",
    "df_agri=pd.read_csv(\"../Cleaned CSVs/Mango-Raw-Ripe.csv\")\n",
    "df_agri['Price Date'] = pd.to_datetime(df_agri['Price Date'])\n",
    "df_agri['District Name'].unique()"
   ]
  },
  {
   "cell_type": "code",
   "execution_count": 223,
   "id": "a57438da",
   "metadata": {
    "ExecuteTime": {
     "end_time": "2025-08-03T08:41:24.332953Z",
     "start_time": "2025-08-03T08:41:24.330221Z"
    }
   },
   "outputs": [],
   "source": [
    "CROP_LOOKBACK_DAYS = {\n",
    "    'Bajra(Pearl Millet/Cumbu)': 85+30,\n",
    "    'Banana' : 120,\n",
    "    'Banana - Green': 100,\n",
    "    'Black Gram Dal (Urd Dal)': 85+30,\n",
    "    'Cashewnuts': 90+30,\n",
    "    'Coconut': 365,\n",
    "    'Coriander(Leaves)': 120+30,\n",
    "    'Cotton': 180+30,\n",
    "    'Garlic': 270,\n",
    "    'Green Gram Dal (Moong Dal)': 90+30,\n",
    "    'Groundnut': 120+30,\n",
    "    'Guava': 210,\n",
    "    'Jowar(Sorghum)': 130+30,\n",
    "    'Lemon': 180,\n",
    "    'Maize': 120+30,\n",
    "    'Mango (Raw-Ripe)': 140,\n",
    "    'Mango': 150,\n",
    "    'Mousambi(Sweet Lime)': 180,\n",
    "    'Onion': 150,\n",
    "    'Paddy(Dhan)(Common)': 180+30,\n",
    "    'Ragi (Finger Millet)': 135+30,\n",
    "    'Chili Red': 90+30,\n",
    "    'Red Gram': 180+30,\n",
    "    'Rubber': 365,\n",
    "    'Sesamum': 140+30,\n",
    "    'Sugarcane': 540,\n",
    "    'Sunflower': 120+30,\n",
    "    'Tapioca': 365,\n",
    "    'Turmeric': 270\n",
    "}"
   ]
  },
  {
   "cell_type": "code",
   "execution_count": 224,
   "id": "8b25a447",
   "metadata": {
    "ExecuteTime": {
     "end_time": "2025-08-03T08:41:24.415737Z",
     "start_time": "2025-08-03T08:41:24.411073Z"
    }
   },
   "outputs": [],
   "source": [
    "DISTRICT_COORDINATES = {\n",
    "    \"Ariyalur\": {\n",
    "        \"lat\": 11.1530559,\n",
    "        \"lon\": 79.2585797\n",
    "    },\n",
    "    \"Cuddalore\": {\n",
    "        \"lat\": 11.520207,\n",
    "        \"lon\": 79.3396356\n",
    "    },\n",
    "    \"Coimbatore\": {\n",
    "        \"lat\": 11.0018115,\n",
    "        \"lon\": 76.9628425\n",
    "    },\n",
    "    \"Salem\": {\n",
    "        \"lat\": 11.6469616,\n",
    "        \"lon\": 78.2106958\n",
    "    },\n",
    "    \"Vellore\": {\n",
    "        \"lat\": 12.9021849,\n",
    "        \"lon\": 79.061104\n",
    "    },\n",
    "    \"Erode\": {\n",
    "        \"lat\": 11.4905281,\n",
    "        \"lon\": 77.3505274\n",
    "    },\n",
    "    \"Theni\": {\n",
    "        \"lat\": 9.8692558,\n",
    "        \"lon\": 77.4222974\n",
    "    },\n",
    "    \"Namakkal\": {\n",
    "        \"lat\": 11.3033889,\n",
    "        \"lon\": 78.118604\n",
    "    },\n",
    "    \"Villupuram\": {\n",
    "        \"lat\": 11.9398285,\n",
    "        \"lon\": 79.4945645\n",
    "    },\n",
    "    \"Virudhunagar\": {\n",
    "        \"lat\": 9.4926289,\n",
    "        \"lon\": 77.8631831\n",
    "    },\n",
    "    \"Dindigul\": {\n",
    "        \"lat\": 10.4256896,\n",
    "        \"lon\": 77.815664\n",
    "    },\n",
    "    \"Thiruvannamalai\": {\n",
    "        \"lat\": 9.539867,\n",
    "        \"lon\": 77.6197904\n",
    "    },\n",
    "    \"Ramanathapuram\": {\n",
    "        \"lat\": 9.5205576,\n",
    "        \"lon\": 78.5184635\n",
    "    },\n",
    "    \"Tuticorin\": {\n",
    "        \"lat\": 8.8052602,\n",
    "        \"lon\": 78.1452745\n",
    "    },\n",
    "    \"Madurai\": {\n",
    "        \"lat\": 9.9261153,\n",
    "        \"lon\": 78.1140983\n",
    "    },\n",
    "    \"Karur\": {\n",
    "        \"lat\": 10.8217671,\n",
    "        \"lon\": 78.3828654\n",
    "    },\n",
    "    \"Dharmapuri\": {\n",
    "        \"lat\": 12.145613,\n",
    "        \"lon\": 78.1132217\n",
    "    },\n",
    "    \"Pudukkottai\": {\n",
    "        \"lat\": 10.2903072,\n",
    "        \"lon\": 78.8173617\n",
    "    },\n",
    "    \"Ranipet\": {\n",
    "        \"lat\": 12.9186243,\n",
    "        \"lon\": 79.4081921\n",
    "    },\n",
    "    \"Krishnagiri\": {\n",
    "        \"lat\": 12.5152075,\n",
    "        \"lon\": 78.0093769\n",
    "    },\n",
    "    \"Kancheepuram\": {\n",
    "        \"lat\": 12.8796051,\n",
    "        \"lon\": 79.7042762\n",
    "    },\n",
    "    \"Chengalpattu\": {\n",
    "        \"lat\": 12.6840886,\n",
    "        \"lon\": 79.9836371\n",
    "    },\n",
    "    \"The Nilgiris\": {\n",
    "        \"lat\": 11.4,\n",
    "        \"lon\": 76.7\n",
    "    },\n",
    "    \"Sivaganga\": {\n",
    "        \"lat\": 9.8486881,\n",
    "        \"lon\": 78.4870461\n",
    "    },\n",
    "    \"Thirupur\": {\n",
    "        \"lat\": 12.921745,\n",
    "        \"lon\": 80.1375926\n",
    "    },\n",
    "    \"Kallakuruchi\": {\n",
    "        \"lat\": 11.4248929,\n",
    "        \"lon\": 78.2652132\n",
    "    },\n",
    "    \"Thanjavur\": {\n",
    "        \"lat\": 10.659037,\n",
    "        \"lon\": 79.2014278\n",
    "    },\n",
    "    \"Nagapattinam\": {\n",
    "        \"lat\": 10.6026202,\n",
    "        \"lon\": 79.7619348\n",
    "    },\n",
    "    \"Thiruvarur\": {\n",
    "        \"lat\": 10.6878621,\n",
    "        \"lon\": 79.4979437\n",
    "    },\n",
    "    \"Thirupathur\": {\n",
    "        \"lat\": 10.59635,\n",
    "        \"lon\": 79.56857\n",
    "    },\n",
    "    \"Perambalur\": {\n",
    "        \"lat\": 11.2902641,\n",
    "        \"lon\": 78.9300404\n",
    "    },\n",
    "    \"Tenkasi\": {\n",
    "        \"lat\": 9.0933908,\n",
    "        \"lon\": 77.4758373\n",
    "    },\n",
    "    \"Thirunelveli\": {\n",
    "        \"lat\": 8.7150,\n",
    "        \"lon\": 77.7656\n",
    "    },\n",
    "    \"Thiruvellore\" : {\n",
    "        \"lat\": 13.1227,\n",
    "        \"lon\": 79.9118\n",
    "    },\n",
    "    \"Thiruchirappalli\" : {\n",
    "        \"lat\": 10.7905,\n",
    "        \"lon\": 78.7047\n",
    "    },\n",
    "    \"Nagercoil (Kannyiakumari)\" : {\n",
    "        \"lat\": 8.1833,\n",
    "        \"lon\": 77.4119\n",
    "    }\n",
    "}"
   ]
  },
  {
   "cell_type": "code",
   "execution_count": 225,
   "id": "78a8b5dc",
   "metadata": {
    "ExecuteTime": {
     "end_time": "2025-08-03T08:41:24.572966Z",
     "start_time": "2025-08-03T08:41:24.482297Z"
    }
   },
   "outputs": [
    {
     "name": "stdout",
     "output_type": "stream",
     "text": [
      "Districts being processed for this file: ['Ariyalur', 'Cuddalore', 'Coimbatore', 'Salem', 'Vellore', 'Erode', 'Theni', 'Namakkal', 'Villupuram', 'Virudhunagar', 'Dindigul', 'Thiruvannamalai', 'Ramanathapuram', 'Tuticorin', 'Madurai', 'Karur', 'Dharmapuri', 'Pudukkottai', 'Ranipet', 'Krishnagiri', 'Kancheepuram', 'Chengalpattu', 'The Nilgiris', 'Sivaganga', 'Thirupur', 'Kallakuruchi', 'Thanjavur', 'Nagapattinam', 'Thiruvarur', 'Thirupathur', 'Perambalur', 'Tenkasi', 'Thirunelveli', 'Thiruvellore', 'Thiruchirappalli', 'Nagercoil (Kannyiakumari)']\n",
      "Lookbacks being processed for this file: {'Mango (Raw-Ripe)': 140}\n"
     ]
    }
   ],
   "source": [
    "districts = {k: v for k, v in DISTRICT_COORDINATES.items() if k in df_agri['District Name'].unique()}\n",
    "lookbacks = {k: v for k, v in CROP_LOOKBACK_DAYS.items() if k in df_agri['Commodity'].unique()}\n",
    "\n",
    "print(f\"Districts being processed for this file: {list(districts.keys())}\")\n",
    "print(f\"Lookbacks being processed for this file: {lookbacks}\")"
   ]
  },
  {
   "cell_type": "code",
   "execution_count": 226,
   "id": "f6029d2e",
   "metadata": {
    "ExecuteTime": {
     "end_time": "2025-08-03T08:41:24.601282Z",
     "start_time": "2025-08-03T08:41:24.597103Z"
    }
   },
   "outputs": [
    {
     "name": "stdout",
     "output_type": "stream",
     "text": [
      "{140}\n"
     ]
    }
   ],
   "source": [
    "all_weather_data = []\n",
    "unique_lookbacks = set(lookbacks.values())\n",
    "start_date = df_agri['Price Date'].min() - pd.Timedelta(days=max(unique_lookbacks, default=0))\n",
    "end_date = df_agri['Price Date'].max()\n",
    "\n",
    "print(unique_lookbacks)"
   ]
  },
  {
   "cell_type": "code",
   "execution_count": 227,
   "id": "53542112",
   "metadata": {
    "ExecuteTime": {
     "end_time": "2025-08-03T08:42:04.649525Z",
     "start_time": "2025-08-03T08:41:24.636195Z"
    }
   },
   "outputs": [
    {
     "name": "stdout",
     "output_type": "stream",
     "text": [
      "Fetching weather data for ['Mango (Raw-Ripe)'] in Ariyalur...\n",
      "200\n",
      "Fetching weather data for ['Mango (Raw-Ripe)'] in Cuddalore...\n",
      "200\n",
      "Fetching weather data for ['Mango (Raw-Ripe)'] in Coimbatore...\n",
      "200\n",
      "Fetching weather data for ['Mango (Raw-Ripe)'] in Salem...\n",
      "200\n",
      "Fetching weather data for ['Mango (Raw-Ripe)'] in Vellore...\n",
      "200\n",
      "Fetching weather data for ['Mango (Raw-Ripe)'] in Erode...\n",
      "200\n",
      "Fetching weather data for ['Mango (Raw-Ripe)'] in Theni...\n",
      "200\n",
      "Fetching weather data for ['Mango (Raw-Ripe)'] in Namakkal...\n",
      "200\n",
      "Fetching weather data for ['Mango (Raw-Ripe)'] in Villupuram...\n",
      "200\n",
      "Fetching weather data for ['Mango (Raw-Ripe)'] in Virudhunagar...\n",
      "200\n",
      "Fetching weather data for ['Mango (Raw-Ripe)'] in Dindigul...\n",
      "200\n",
      "Fetching weather data for ['Mango (Raw-Ripe)'] in Thiruvannamalai...\n",
      "200\n",
      "Fetching weather data for ['Mango (Raw-Ripe)'] in Ramanathapuram...\n",
      "200\n",
      "Fetching weather data for ['Mango (Raw-Ripe)'] in Tuticorin...\n",
      "200\n",
      "Fetching weather data for ['Mango (Raw-Ripe)'] in Madurai...\n",
      "200\n",
      "Fetching weather data for ['Mango (Raw-Ripe)'] in Karur...\n",
      "200\n",
      "Fetching weather data for ['Mango (Raw-Ripe)'] in Dharmapuri...\n",
      "200\n",
      "Fetching weather data for ['Mango (Raw-Ripe)'] in Pudukkottai...\n",
      "200\n",
      "Fetching weather data for ['Mango (Raw-Ripe)'] in Ranipet...\n",
      "200\n",
      "Fetching weather data for ['Mango (Raw-Ripe)'] in Krishnagiri...\n",
      "200\n",
      "Fetching weather data for ['Mango (Raw-Ripe)'] in Kancheepuram...\n",
      "200\n",
      "Fetching weather data for ['Mango (Raw-Ripe)'] in Chengalpattu...\n",
      "200\n",
      "Fetching weather data for ['Mango (Raw-Ripe)'] in The Nilgiris...\n",
      "200\n",
      "Fetching weather data for ['Mango (Raw-Ripe)'] in Sivaganga...\n",
      "200\n",
      "Fetching weather data for ['Mango (Raw-Ripe)'] in Thirupur...\n",
      "200\n",
      "Fetching weather data for ['Mango (Raw-Ripe)'] in Kallakuruchi...\n",
      "200\n",
      "Fetching weather data for ['Mango (Raw-Ripe)'] in Thanjavur...\n",
      "200\n",
      "Fetching weather data for ['Mango (Raw-Ripe)'] in Nagapattinam...\n",
      "200\n",
      "Fetching weather data for ['Mango (Raw-Ripe)'] in Thiruvarur...\n",
      "200\n",
      "Fetching weather data for ['Mango (Raw-Ripe)'] in Thirupathur...\n",
      "200\n",
      "Fetching weather data for ['Mango (Raw-Ripe)'] in Perambalur...\n",
      "200\n",
      "Fetching weather data for ['Mango (Raw-Ripe)'] in Tenkasi...\n",
      "200\n",
      "Fetching weather data for ['Mango (Raw-Ripe)'] in Thirunelveli...\n",
      "200\n",
      "Fetching weather data for ['Mango (Raw-Ripe)'] in Thiruvellore...\n",
      "200\n",
      "Fetching weather data for ['Mango (Raw-Ripe)'] in Thiruchirappalli...\n",
      "200\n",
      "Fetching weather data for ['Mango (Raw-Ripe)'] in Nagercoil (Kannyiakumari)...\n",
      "200\n"
     ]
    }
   ],
   "source": [
    "for district, coords in districts.items():\n",
    "    print(f\"Fetching weather data for {df_agri['Commodity'].unique()} in {district}...\")\n",
    "    \n",
    "    weather_url = f\"https://archive-api.open-meteo.com/v1/archive?latitude={coords['lat']}&longitude={coords['lon']}&start_date={start_date.strftime('%Y-%m-%d')}&end_date={end_date.strftime('%Y-%m-%d')}&daily=temperature_2m_mean,precipitation_sum\"\n",
    "    response = requests.get(weather_url)\n",
    "    \n",
    "    if response.status_code == 200:\n",
    "        df_weather = pd.DataFrame(response.json()['daily'])\n",
    "        df_weather['Price Date'] = pd.to_datetime(df_weather['time'])\n",
    "        df_weather['District Name'] = district\n",
    "\n",
    "        for days in unique_lookbacks:\n",
    "            df_weather[f'temp_mean_{days}d'] = df_weather['temperature_2m_mean'].rolling(window=days, min_periods=1).mean()\n",
    "            df_weather[f'precip_sum_{days}d'] = df_weather['precipitation_sum'].rolling(window=days, min_periods=1).sum()\n",
    "        \n",
    "        all_weather_data.append(df_weather)\n",
    "    print(response.status_code)\n",
    "    time.sleep(10)\n",
    "df_weather_master = pd.concat(all_weather_data)\n"
   ]
  },
  {
   "cell_type": "code",
   "execution_count": 228,
   "id": "de834a2d",
   "metadata": {
    "ExecuteTime": {
     "end_time": "2025-08-03T08:42:04.681660200Z",
     "start_time": "2025-08-03T08:37:51.747558Z"
    }
   },
   "outputs": [
    {
     "name": "stdout",
     "output_type": "stream",
     "text": [
      "           time  temperature_2m_mean  precipitation_sum Price Date  \\\n",
      "0    2024-01-30                 26.0                0.0 2024-01-30   \n",
      "1    2024-01-31                 26.5                0.0 2024-01-31   \n",
      "2    2024-02-01                 26.8                1.6 2024-02-01   \n",
      "3    2024-02-02                 26.8                0.3 2024-02-02   \n",
      "4    2024-02-03                 26.5                0.1 2024-02-03   \n",
      "..          ...                  ...                ...        ...   \n",
      "534  2025-07-17                 26.4                3.3 2025-07-17   \n",
      "535  2025-07-18                 26.3                3.1 2025-07-18   \n",
      "536  2025-07-19                 23.6               18.8 2025-07-19   \n",
      "537  2025-07-20                 23.6               25.6 2025-07-20   \n",
      "538  2025-07-21                 23.8               12.0 2025-07-21   \n",
      "\n",
      "                 District Name  temp_mean_140d  precip_sum_140d  \n",
      "0                     Ariyalur       26.000000              0.0  \n",
      "1                     Ariyalur       26.250000              0.0  \n",
      "2                     Ariyalur       26.433333              1.6  \n",
      "3                     Ariyalur       26.525000              1.9  \n",
      "4                     Ariyalur       26.520000              2.0  \n",
      "..                         ...             ...              ...  \n",
      "534  Nagercoil (Kannyiakumari)       27.574286            630.0  \n",
      "535  Nagercoil (Kannyiakumari)       27.565000            623.3  \n",
      "536  Nagercoil (Kannyiakumari)       27.540000            640.3  \n",
      "537  Nagercoil (Kannyiakumari)       27.516429            662.4  \n",
      "538  Nagercoil (Kannyiakumari)       27.482857            674.1  \n",
      "\n",
      "[19404 rows x 7 columns]\n"
     ]
    }
   ],
   "source": [
    "print(df_weather_master)"
   ]
  },
  {
   "cell_type": "code",
   "execution_count": 229,
   "id": "7aedb2d2",
   "metadata": {
    "ExecuteTime": {
     "end_time": "2025-08-03T08:42:04.681660200Z",
     "start_time": "2025-08-03T08:37:51.785498Z"
    }
   },
   "outputs": [
    {
     "name": "stdout",
     "output_type": "stream",
     "text": [
      "      District Name                    Market Name         Commodity  \\\n",
      "0        Dharmapuri    AJattihalli(Farmers Market)  Mango (Raw-Ripe)   \n",
      "1        Dharmapuri    AJattihalli(Farmers Market)  Mango (Raw-Ripe)   \n",
      "2        Dharmapuri    AJattihalli(Farmers Market)  Mango (Raw-Ripe)   \n",
      "3        Dharmapuri    AJattihalli(Farmers Market)  Mango (Raw-Ripe)   \n",
      "4        Dharmapuri    AJattihalli(Farmers Market)  Mango (Raw-Ripe)   \n",
      "...             ...                            ...               ...   \n",
      "41308     Cuddalore  Viruthachalam(Farmers Market)  Mango (Raw-Ripe)   \n",
      "41309     Cuddalore  Viruthachalam(Farmers Market)  Mango (Raw-Ripe)   \n",
      "41310     Cuddalore  Viruthachalam(Farmers Market)  Mango (Raw-Ripe)   \n",
      "41311     Cuddalore  Viruthachalam(Farmers Market)  Mango (Raw-Ripe)   \n",
      "41312     Cuddalore  Viruthachalam(Farmers Market)  Mango (Raw-Ripe)   \n",
      "\n",
      "                Variety  Grade  Min Price (Rs./Quintal)  \\\n",
      "0      Mango - Raw-Ripe  Local                   1200.0   \n",
      "1      Mango - Raw-Ripe  Local                   1400.0   \n",
      "2      Mango - Raw-Ripe  Local                   1400.0   \n",
      "3      Mango - Raw-Ripe  Local                   1400.0   \n",
      "4      Mango - Raw-Ripe  Local                   1400.0   \n",
      "...                 ...    ...                      ...   \n",
      "41308  Mango - Raw-Ripe  Local                  15000.0   \n",
      "41309  Mango - Raw-Ripe  Local                  15000.0   \n",
      "41310  Mango - Raw-Ripe  Local                  15000.0   \n",
      "41311  Mango - Raw-Ripe  Local                  16000.0   \n",
      "41312  Mango - Raw-Ripe  Local                  16000.0   \n",
      "\n",
      "       Max Price (Rs./Quintal)  Modal Price (Rs./Quintal) Price Date  \\\n",
      "0                       1500.0                     1500.0 2025-07-13   \n",
      "1                       1600.0                     1600.0 2025-07-05   \n",
      "2                       1600.0                     1600.0 2025-07-07   \n",
      "3                       1600.0                     1600.0 2025-07-09   \n",
      "4                       1600.0                     1600.0 2025-06-20   \n",
      "...                        ...                        ...        ...   \n",
      "41308                  15000.0                    15000.0 2024-09-17   \n",
      "41309                  16000.0                    16000.0 2024-09-19   \n",
      "41310                  17000.0                    17000.0 2025-01-22   \n",
      "41311                  16000.0                    16000.0 2024-09-21   \n",
      "41312                  16000.0                    16000.0 2025-01-23   \n",
      "\n",
      "       Day Of Week        time  temperature_2m_mean  precipitation_sum  \\\n",
      "0                6  2025-07-13                 28.5                5.3   \n",
      "1                5  2025-07-05                 28.2                0.6   \n",
      "2                0  2025-07-07                 28.2                0.1   \n",
      "3                2  2025-07-09                 29.1                0.2   \n",
      "4                4  2025-06-20                 28.4                0.4   \n",
      "...            ...         ...                  ...                ...   \n",
      "41308            1  2024-09-17                 32.0                0.3   \n",
      "41309            3  2024-09-19                 31.7                0.0   \n",
      "41310            2  2025-01-22                 24.7                0.1   \n",
      "41311            5  2024-09-21                 29.0               22.2   \n",
      "41312            3  2025-01-23                 24.6                0.0   \n",
      "\n",
      "       temp_mean_140d  precip_sum_140d  \n",
      "0           27.899286            295.2  \n",
      "1           27.695714            271.8  \n",
      "2           27.750000            272.8  \n",
      "3           27.815714            273.0  \n",
      "4           27.283571            259.0  \n",
      "...               ...              ...  \n",
      "41308       30.226429            662.3  \n",
      "41309       30.190000            662.3  \n",
      "41310       26.780714            946.1  \n",
      "41311       30.132143            684.4  \n",
      "41312       26.734286            945.4  \n",
      "\n",
      "[41313 rows x 15 columns]\n"
     ]
    }
   ],
   "source": [
    "df_merged = pd.merge(df_agri, df_weather_master, on=['District Name', 'Price Date'], how='left')\n",
    "print(df_merged)"
   ]
  },
  {
   "cell_type": "code",
   "execution_count": 230,
   "id": "e9ab6dd7",
   "metadata": {
    "ExecuteTime": {
     "end_time": "2025-08-03T08:42:04.697859800Z",
     "start_time": "2025-08-03T08:37:51.826616Z"
    }
   },
   "outputs": [],
   "source": [
    "def get_correct_lookback_value(row, feature_prefix, lookback_dict):\n",
    "    commodity = row['Commodity']\n",
    "    # ** NEW: Check if the commodity exists in our lookback dictionary **\n",
    "    if commodity in lookback_dict:\n",
    "        lookback_days = lookback_dict[commodity]\n",
    "        column_name = f\"{feature_prefix}_{lookback_days}d\"\n",
    "        return row[column_name]\n",
    "    return None\n",
    "\n",
    "df_merged['lookback_temp_mean'] = df_merged.apply(get_correct_lookback_value, feature_prefix='temp_mean', lookback_dict=lookbacks, axis=1)\n",
    "df_merged['lookback_precip_sum'] = df_merged.apply(get_correct_lookback_value, feature_prefix='precip_sum', lookback_dict=lookbacks, axis=1)\n"
   ]
  },
  {
   "cell_type": "code",
   "execution_count": 231,
   "id": "17a63cfc",
   "metadata": {
    "ExecuteTime": {
     "end_time": "2025-08-03T08:42:04.697859800Z",
     "start_time": "2025-08-03T08:37:51.875542Z"
    }
   },
   "outputs": [
    {
     "name": "stdout",
     "output_type": "stream",
     "text": [
      "  District Name                  Market Name         Commodity  \\\n",
      "0    Dharmapuri  AJattihalli(Farmers Market)  Mango (Raw-Ripe)   \n",
      "1    Dharmapuri  AJattihalli(Farmers Market)  Mango (Raw-Ripe)   \n",
      "2    Dharmapuri  AJattihalli(Farmers Market)  Mango (Raw-Ripe)   \n",
      "3    Dharmapuri  AJattihalli(Farmers Market)  Mango (Raw-Ripe)   \n",
      "4    Dharmapuri  AJattihalli(Farmers Market)  Mango (Raw-Ripe)   \n",
      "\n",
      "            Variety  Grade  Min Price (Rs./Quintal)  Max Price (Rs./Quintal)  \\\n",
      "0  Mango - Raw-Ripe  Local                   1200.0                   1500.0   \n",
      "1  Mango - Raw-Ripe  Local                   1400.0                   1600.0   \n",
      "2  Mango - Raw-Ripe  Local                   1400.0                   1600.0   \n",
      "3  Mango - Raw-Ripe  Local                   1400.0                   1600.0   \n",
      "4  Mango - Raw-Ripe  Local                   1400.0                   1600.0   \n",
      "\n",
      "   Modal Price (Rs./Quintal) Price Date  Day Of Week        time  \\\n",
      "0                     1500.0 2025-07-13            6  2025-07-13   \n",
      "1                     1600.0 2025-07-05            5  2025-07-05   \n",
      "2                     1600.0 2025-07-07            0  2025-07-07   \n",
      "3                     1600.0 2025-07-09            2  2025-07-09   \n",
      "4                     1600.0 2025-06-20            4  2025-06-20   \n",
      "\n",
      "   temperature_2m_mean  precipitation_sum  temp_mean_140d  precip_sum_140d  \\\n",
      "0                 28.5                5.3       27.899286            295.2   \n",
      "1                 28.2                0.6       27.695714            271.8   \n",
      "2                 28.2                0.1       27.750000            272.8   \n",
      "3                 29.1                0.2       27.815714            273.0   \n",
      "4                 28.4                0.4       27.283571            259.0   \n",
      "\n",
      "   lookback_temp_mean  lookback_precip_sum  \n",
      "0           27.899286                295.2  \n",
      "1           27.695714                271.8  \n",
      "2           27.750000                272.8  \n",
      "3           27.815714                273.0  \n",
      "4           27.283571                259.0  \n"
     ]
    }
   ],
   "source": [
    "print(df_merged.head())"
   ]
  },
  {
   "cell_type": "code",
   "execution_count": 232,
   "id": "8f0d1d98",
   "metadata": {
    "ExecuteTime": {
     "end_time": "2025-08-03T08:42:04.697859800Z",
     "start_time": "2025-08-03T08:37:51.890218Z"
    }
   },
   "outputs": [],
   "source": [
    "final_columns = [\n",
    "    'District Name', 'Market Name', 'Commodity', 'Variety', 'Grade', 'Min Price (Rs./Quintal)', \n",
    "    'Max Price (Rs./Quintal)', 'Modal Price (Rs./Quintal)', 'Price Date', 'Day Of Week',\n",
    "    'lookback_temp_mean', 'lookback_precip_sum'\n",
    "]\n",
    "\n",
    "df_final = df_merged[[col for col in final_columns if col in df_merged.columns]].copy()\n"
   ]
  },
  {
   "cell_type": "code",
   "execution_count": null,
   "id": "e88019ff",
   "metadata": {
    "ExecuteTime": {
     "end_time": "2025-08-03T08:42:04.707935300Z",
     "start_time": "2025-08-03T08:37:51.939628Z"
    }
   },
   "outputs": [],
   "source": [
    "df_final.to_csv('../Weather_Merged_CSVs/Maize-Raw-Ripe.csv', index=False)"
   ]
  }
 ],
 "metadata": {
  "kernelspec": {
   "display_name": ".venv",
   "language": "python",
   "name": "python3"
  },
  "language_info": {
   "codemirror_mode": {
    "name": "ipython",
    "version": 3
   },
   "file_extension": ".py",
   "mimetype": "text/x-python",
   "name": "python",
   "nbconvert_exporter": "python",
   "pygments_lexer": "ipython3",
   "version": "3.12.6"
  }
 },
 "nbformat": 4,
 "nbformat_minor": 5
}
