{
 "cells": [
  {
   "cell_type": "code",
   "execution_count": 129,
   "id": "2626c70e-dcf5-46d2-b4f6-f97d0334b1b4",
   "metadata": {},
   "outputs": [
    {
     "name": "stdout",
     "output_type": "stream",
     "text": [
      "   Sl no. District Name Market Name Commodity  Variety Grade  \\\n",
      "0       1         Erode   Alangeyam   Coconut  Coconut   FAQ   \n",
      "1       2         Erode   Alangeyam   Coconut  Coconut   FAQ   \n",
      "2       3         Erode   Alangeyam   Coconut  Coconut   FAQ   \n",
      "3       4    Coimbatore   Anaimalai   Coconut    Other   FAQ   \n",
      "4       5    Coimbatore   Anaimalai   Coconut    Other   FAQ   \n",
      "\n",
      "   Min Price (Rs./Quintal)  Max Price (Rs./Quintal)  \\\n",
      "0                   1250.0                   2250.0   \n",
      "1                   1760.0                   2200.0   \n",
      "2                   1760.0                   2200.0   \n",
      "3                    600.0                   2000.0   \n",
      "4                    600.0                   2200.0   \n",
      "\n",
      "   Modal Price (Rs./Quintal) Price Date  \n",
      "0                     1400.0  11-Aug-17  \n",
      "1                     1940.0  16-Jul-18  \n",
      "2                     1960.0  25-Jun-18  \n",
      "3                     1800.0  10-Sep-15  \n",
      "4                     1800.0  18-Jul-15  \n"
     ]
    }
   ],
   "source": [
    "import pandas as pd\n",
    "df=pd.read_csv(\"./CSV/Coconut-2015-2019.csv\")\n",
    "print(df.head())"
   ]
  },
  {
   "cell_type": "code",
   "execution_count": 130,
   "id": "580bd2ac-ad8f-4f08-a226-888d26d3cfdf",
   "metadata": {},
   "outputs": [
    {
     "name": "stdout",
     "output_type": "stream",
     "text": [
      "Sl no.                       0\n",
      "District Name                0\n",
      "Market Name                  0\n",
      "Commodity                    0\n",
      "Variety                      0\n",
      "Grade                        0\n",
      "Min Price (Rs./Quintal)      0\n",
      "Max Price (Rs./Quintal)      0\n",
      "Modal Price (Rs./Quintal)    0\n",
      "Price Date                   0\n",
      "dtype: int64\n"
     ]
    }
   ],
   "source": [
    "print(df.isnull().sum())"
   ]
  },
  {
   "cell_type": "code",
   "execution_count": 132,
   "id": "d49581b4-3cbd-483e-894f-fc1db97666f8",
   "metadata": {},
   "outputs": [
    {
     "name": "stdout",
     "output_type": "stream",
     "text": [
      "   Sl no. District Name Market Name Commodity  Variety Grade  \\\n",
      "0       1         Erode   Alangeyam   Coconut  Coconut   FAQ   \n",
      "1       2         Erode   Alangeyam   Coconut  Coconut   FAQ   \n",
      "2       3         Erode   Alangeyam   Coconut  Coconut   FAQ   \n",
      "3       4    Coimbatore   Anaimalai   Coconut    Other   FAQ   \n",
      "4       5    Coimbatore   Anaimalai   Coconut    Other   FAQ   \n",
      "\n",
      "   Min Price (Rs./Quintal)  Max Price (Rs./Quintal)  \\\n",
      "0                   1250.0                   2250.0   \n",
      "1                   1760.0                   2200.0   \n",
      "2                   1760.0                   2200.0   \n",
      "3                    600.0                   2000.0   \n",
      "4                    600.0                   2200.0   \n",
      "\n",
      "   Modal Price (Rs./Quintal) Price Date  \n",
      "0                     1400.0 2017-08-11  \n",
      "1                     1940.0 2018-07-16  \n",
      "2                     1960.0 2018-06-25  \n",
      "3                     1800.0 2015-09-10  \n",
      "4                     1800.0 2015-07-18  \n"
     ]
    }
   ],
   "source": [
    "df['Price Date'] = pd.to_datetime(df['Price Date'])\n",
    "print(df.head())"
   ]
  },
  {
   "cell_type": "code",
   "execution_count": 144,
   "id": "e1de98a1-e327-4905-9922-ba255d92ecfa",
   "metadata": {},
   "outputs": [
    {
     "name": "stdout",
     "output_type": "stream",
     "text": [
      "['Alangeyam' 'Anaimalai' 'Annur' 'Anthiyur' 'Avalpoonthurai' 'Bhavani'\n",
      " 'Boothapadi' 'Dharapuram' 'Eathamozhi' 'Elumathur' 'Erode' 'Gangavalli'\n",
      " 'Gopalpatti' 'Gudiyatham' 'Kalliakavillai' 'Kangeyam' 'Karamadai'\n",
      " 'Karumanturai' 'Karur' 'Kavunthapadi' 'Kianthukadavu' 'Kodumudi'\n",
      " 'Konganapuram' 'Kunnathur' 'Madathukulam' 'Melur' 'Monday Market'\n",
      " 'Muthur' 'Namagiripettai' 'Namakkal' 'Natham' 'Negamam' 'Oddunchairum'\n",
      " 'Omalur' 'Palani' 'Palladam' 'Perundurai' 'Pethappampatti' 'Pollachi'\n",
      " 'Pongalur' 'Pudupalayam' 'Rasipuram' 'Salem' 'Sathyamangalam' 'Senjeri'\n",
      " 'Singampuneri' 'Sulur' 'Thalavadi' 'Thammampati' 'Thiruppur' 'Thoduvetty'\n",
      " 'Thondamuthur' 'Udumalpet' 'Ulundurpettai' 'Vadaseri' 'Vathlagundu'\n",
      " 'Vazhapadi' 'Vedachandur' 'Vellakkoil' 'Velur']\n"
     ]
    }
   ],
   "source": [
    "df['Market Name'] = df['Market Name'].str.strip()\n",
    "# df['Market Name'] = df['Market Name'].str.replace('Uzhavar Sandhai ','Farmers Market')\n",
    "print(df['Market Name'].unique())"
   ]
  },
  {
   "cell_type": "code",
   "execution_count": 134,
   "id": "2ba4d622-b10f-4421-936f-f1a49d964f29",
   "metadata": {},
   "outputs": [
    {
     "data": {
      "text/html": [
       "<div>\n",
       "<style scoped>\n",
       "    .dataframe tbody tr th:only-of-type {\n",
       "        vertical-align: middle;\n",
       "    }\n",
       "\n",
       "    .dataframe tbody tr th {\n",
       "        vertical-align: top;\n",
       "    }\n",
       "\n",
       "    .dataframe thead th {\n",
       "        text-align: right;\n",
       "    }\n",
       "</style>\n",
       "<table border=\"1\" class=\"dataframe\">\n",
       "  <thead>\n",
       "    <tr style=\"text-align: right;\">\n",
       "      <th></th>\n",
       "      <th>Sl no.</th>\n",
       "      <th>District Name</th>\n",
       "      <th>Market Name</th>\n",
       "      <th>Commodity</th>\n",
       "      <th>Variety</th>\n",
       "      <th>Grade</th>\n",
       "      <th>Min Price (Rs./Quintal)</th>\n",
       "      <th>Max Price (Rs./Quintal)</th>\n",
       "      <th>Modal Price (Rs./Quintal)</th>\n",
       "      <th>Price Date</th>\n",
       "    </tr>\n",
       "  </thead>\n",
       "  <tbody>\n",
       "    <tr>\n",
       "      <th>0</th>\n",
       "      <td>1</td>\n",
       "      <td>Erode</td>\n",
       "      <td>Alangeyam</td>\n",
       "      <td>Coconut</td>\n",
       "      <td>Coconut</td>\n",
       "      <td>FAQ</td>\n",
       "      <td>1250.0</td>\n",
       "      <td>2250.0</td>\n",
       "      <td>1400.0</td>\n",
       "      <td>2017-08-11</td>\n",
       "    </tr>\n",
       "    <tr>\n",
       "      <th>1</th>\n",
       "      <td>2</td>\n",
       "      <td>Erode</td>\n",
       "      <td>Alangeyam</td>\n",
       "      <td>Coconut</td>\n",
       "      <td>Coconut</td>\n",
       "      <td>FAQ</td>\n",
       "      <td>1760.0</td>\n",
       "      <td>2200.0</td>\n",
       "      <td>1940.0</td>\n",
       "      <td>2018-07-16</td>\n",
       "    </tr>\n",
       "    <tr>\n",
       "      <th>2</th>\n",
       "      <td>3</td>\n",
       "      <td>Erode</td>\n",
       "      <td>Alangeyam</td>\n",
       "      <td>Coconut</td>\n",
       "      <td>Coconut</td>\n",
       "      <td>FAQ</td>\n",
       "      <td>1760.0</td>\n",
       "      <td>2200.0</td>\n",
       "      <td>1960.0</td>\n",
       "      <td>2018-06-25</td>\n",
       "    </tr>\n",
       "    <tr>\n",
       "      <th>3</th>\n",
       "      <td>4</td>\n",
       "      <td>Coimbatore</td>\n",
       "      <td>Anaimalai</td>\n",
       "      <td>Coconut</td>\n",
       "      <td>Other</td>\n",
       "      <td>FAQ</td>\n",
       "      <td>600.0</td>\n",
       "      <td>2000.0</td>\n",
       "      <td>1800.0</td>\n",
       "      <td>2015-09-10</td>\n",
       "    </tr>\n",
       "    <tr>\n",
       "      <th>4</th>\n",
       "      <td>5</td>\n",
       "      <td>Coimbatore</td>\n",
       "      <td>Anaimalai</td>\n",
       "      <td>Coconut</td>\n",
       "      <td>Other</td>\n",
       "      <td>FAQ</td>\n",
       "      <td>600.0</td>\n",
       "      <td>2200.0</td>\n",
       "      <td>1800.0</td>\n",
       "      <td>2015-07-18</td>\n",
       "    </tr>\n",
       "    <tr>\n",
       "      <th>...</th>\n",
       "      <td>...</td>\n",
       "      <td>...</td>\n",
       "      <td>...</td>\n",
       "      <td>...</td>\n",
       "      <td>...</td>\n",
       "      <td>...</td>\n",
       "      <td>...</td>\n",
       "      <td>...</td>\n",
       "      <td>...</td>\n",
       "      <td>...</td>\n",
       "    </tr>\n",
       "    <tr>\n",
       "      <th>15766</th>\n",
       "      <td>15767</td>\n",
       "      <td>Namakkal</td>\n",
       "      <td>Velur</td>\n",
       "      <td>Coconut</td>\n",
       "      <td>Other</td>\n",
       "      <td>FAQ</td>\n",
       "      <td>8369.0</td>\n",
       "      <td>9210.0</td>\n",
       "      <td>9210.0</td>\n",
       "      <td>2017-07-21</td>\n",
       "    </tr>\n",
       "    <tr>\n",
       "      <th>15767</th>\n",
       "      <td>15768</td>\n",
       "      <td>Namakkal</td>\n",
       "      <td>Velur</td>\n",
       "      <td>Coconut</td>\n",
       "      <td>Other</td>\n",
       "      <td>FAQ</td>\n",
       "      <td>8525.0</td>\n",
       "      <td>9660.0</td>\n",
       "      <td>9015.0</td>\n",
       "      <td>2015-03-13</td>\n",
       "    </tr>\n",
       "    <tr>\n",
       "      <th>15768</th>\n",
       "      <td>15769</td>\n",
       "      <td>Namakkal</td>\n",
       "      <td>Velur</td>\n",
       "      <td>Coconut</td>\n",
       "      <td>Other</td>\n",
       "      <td>FAQ</td>\n",
       "      <td>11192.0</td>\n",
       "      <td>13015.0</td>\n",
       "      <td>12800.0</td>\n",
       "      <td>2018-02-23</td>\n",
       "    </tr>\n",
       "    <tr>\n",
       "      <th>15769</th>\n",
       "      <td>15770</td>\n",
       "      <td>Namakkal</td>\n",
       "      <td>Velur</td>\n",
       "      <td>Coconut</td>\n",
       "      <td>Other</td>\n",
       "      <td>FAQ</td>\n",
       "      <td>12400.0</td>\n",
       "      <td>13269.0</td>\n",
       "      <td>12869.0</td>\n",
       "      <td>2018-02-02</td>\n",
       "    </tr>\n",
       "    <tr>\n",
       "      <th>15770</th>\n",
       "      <td>15771</td>\n",
       "      <td>Namakkal</td>\n",
       "      <td>Velur</td>\n",
       "      <td>Coconut</td>\n",
       "      <td>Other</td>\n",
       "      <td>FAQ</td>\n",
       "      <td>12699.0</td>\n",
       "      <td>13315.0</td>\n",
       "      <td>13000.0</td>\n",
       "      <td>2018-02-09</td>\n",
       "    </tr>\n",
       "  </tbody>\n",
       "</table>\n",
       "<p>15771 rows × 10 columns</p>\n",
       "</div>"
      ],
      "text/plain": [
       "       Sl no. District Name Market Name Commodity  Variety Grade  \\\n",
       "0           1         Erode   Alangeyam   Coconut  Coconut   FAQ   \n",
       "1           2         Erode   Alangeyam   Coconut  Coconut   FAQ   \n",
       "2           3         Erode   Alangeyam   Coconut  Coconut   FAQ   \n",
       "3           4    Coimbatore   Anaimalai   Coconut    Other   FAQ   \n",
       "4           5    Coimbatore   Anaimalai   Coconut    Other   FAQ   \n",
       "...       ...           ...         ...       ...      ...   ...   \n",
       "15766   15767      Namakkal       Velur   Coconut    Other   FAQ   \n",
       "15767   15768      Namakkal       Velur   Coconut    Other   FAQ   \n",
       "15768   15769      Namakkal       Velur   Coconut    Other   FAQ   \n",
       "15769   15770      Namakkal       Velur   Coconut    Other   FAQ   \n",
       "15770   15771      Namakkal       Velur   Coconut    Other   FAQ   \n",
       "\n",
       "       Min Price (Rs./Quintal)  Max Price (Rs./Quintal)  \\\n",
       "0                       1250.0                   2250.0   \n",
       "1                       1760.0                   2200.0   \n",
       "2                       1760.0                   2200.0   \n",
       "3                        600.0                   2000.0   \n",
       "4                        600.0                   2200.0   \n",
       "...                        ...                      ...   \n",
       "15766                   8369.0                   9210.0   \n",
       "15767                   8525.0                   9660.0   \n",
       "15768                  11192.0                  13015.0   \n",
       "15769                  12400.0                  13269.0   \n",
       "15770                  12699.0                  13315.0   \n",
       "\n",
       "       Modal Price (Rs./Quintal) Price Date  \n",
       "0                         1400.0 2017-08-11  \n",
       "1                         1940.0 2018-07-16  \n",
       "2                         1960.0 2018-06-25  \n",
       "3                         1800.0 2015-09-10  \n",
       "4                         1800.0 2015-07-18  \n",
       "...                          ...        ...  \n",
       "15766                     9210.0 2017-07-21  \n",
       "15767                     9015.0 2015-03-13  \n",
       "15768                    12800.0 2018-02-23  \n",
       "15769                    12869.0 2018-02-02  \n",
       "15770                    13000.0 2018-02-09  \n",
       "\n",
       "[15771 rows x 10 columns]"
      ]
     },
     "execution_count": 134,
     "metadata": {},
     "output_type": "execute_result"
    }
   ],
   "source": [
    "df.drop_duplicates()"
   ]
  },
  {
   "cell_type": "code",
   "execution_count": 136,
   "id": "45b3e793-5e4e-4ed6-a87b-69541f18d9e4",
   "metadata": {},
   "outputs": [
    {
     "data": {
      "text/plain": [
       "array(['Coconut', 'Other', 'Big', 'Medium', 'Small', 'Grade-II',\n",
       "       'Grade-I'], dtype=object)"
      ]
     },
     "execution_count": 136,
     "metadata": {},
     "output_type": "execute_result"
    }
   ],
   "source": [
    "# TODO check if column can be dropped\n",
    "#df['Variety'].unique()\n",
    "#df['Variety']=df['Variety'].str.replace(\"Grade- II\",\"Grade-II\")\n",
    "df['Variety'].unique()"
   ]
  },
  {
   "cell_type": "code",
   "execution_count": 137,
   "id": "f83e2978-cb54-4e85-a7cb-636ae95f4fb5",
   "metadata": {},
   "outputs": [
    {
     "name": "stdout",
     "output_type": "stream",
     "text": [
      "       Sl no. District Name Market Name Commodity  Variety Grade  \\\n",
      "0           1         Erode   Alangeyam   Coconut  Coconut   FAQ   \n",
      "1           2         Erode   Alangeyam   Coconut  Coconut   FAQ   \n",
      "2           3         Erode   Alangeyam   Coconut  Coconut   FAQ   \n",
      "3           4    Coimbatore   Anaimalai   Coconut    Other   FAQ   \n",
      "4           5    Coimbatore   Anaimalai   Coconut    Other   FAQ   \n",
      "...       ...           ...         ...       ...      ...   ...   \n",
      "15766   15767      Namakkal       Velur   Coconut    Other   FAQ   \n",
      "15767   15768      Namakkal       Velur   Coconut    Other   FAQ   \n",
      "15768   15769      Namakkal       Velur   Coconut    Other   FAQ   \n",
      "15769   15770      Namakkal       Velur   Coconut    Other   FAQ   \n",
      "15770   15771      Namakkal       Velur   Coconut    Other   FAQ   \n",
      "\n",
      "       Min Price (Rs./Quintal)  Max Price (Rs./Quintal)  \\\n",
      "0                       1250.0                   2250.0   \n",
      "1                       1760.0                   2200.0   \n",
      "2                       1760.0                   2200.0   \n",
      "3                        600.0                   2000.0   \n",
      "4                        600.0                   2200.0   \n",
      "...                        ...                      ...   \n",
      "15766                   8369.0                   9210.0   \n",
      "15767                   8525.0                   9660.0   \n",
      "15768                  11192.0                  13015.0   \n",
      "15769                  12400.0                  13269.0   \n",
      "15770                  12699.0                  13315.0   \n",
      "\n",
      "       Modal Price (Rs./Quintal) Price Date  Day Of Week  \n",
      "0                         1400.0 2017-08-11            4  \n",
      "1                         1940.0 2018-07-16            0  \n",
      "2                         1960.0 2018-06-25            0  \n",
      "3                         1800.0 2015-09-10            3  \n",
      "4                         1800.0 2015-07-18            5  \n",
      "...                          ...        ...          ...  \n",
      "15766                     9210.0 2017-07-21            4  \n",
      "15767                     9015.0 2015-03-13            4  \n",
      "15768                    12800.0 2018-02-23            4  \n",
      "15769                    12869.0 2018-02-02            4  \n",
      "15770                    13000.0 2018-02-09            4  \n",
      "\n",
      "[15771 rows x 11 columns]\n"
     ]
    }
   ],
   "source": [
    "df['Day Of Week'] = df['Price Date'].dt.dayofweek\n",
    "print(df)"
   ]
  },
  {
   "cell_type": "code",
   "execution_count": 145,
   "id": "0fdf79be-ed99-4ec8-938c-ed37636f970f",
   "metadata": {},
   "outputs": [
    {
     "name": "stdout",
     "output_type": "stream",
     "text": [
      "Min Price (Rs./Quintal)      float64\n",
      "Max Price (Rs./Quintal)      float64\n",
      "Modal Price (Rs./Quintal)    float64\n",
      "dtype: object\n"
     ]
    }
   ],
   "source": [
    "# Check the data types of the price columns\n",
    "df['Max Price (Rs./Quintal)'] = pd.to_numeric(df['Max Price (Rs./Quintal)'], errors='coerce').astype('float64')\n",
    "df['Modal Price (Rs./Quintal)'] = pd.to_numeric(df['Modal Price (Rs./Quintal)'], errors='coerce').astype('float64')\n",
    "df['Min Price (Rs./Quintal)'] = pd.to_numeric(df['Min Price (Rs./Quintal)'], errors='coerce').astype('float64')\n",
    "\n",
    "print(df[['Min Price (Rs./Quintal)','Max Price (Rs./Quintal)', 'Modal Price (Rs./Quintal)']].dtypes)"
   ]
  },
  {
   "cell_type": "code",
   "execution_count": 146,
   "id": "d08b4f4b-2a37-4048-9666-3fedec9cb940",
   "metadata": {},
   "outputs": [
    {
     "name": "stdout",
     "output_type": "stream",
     "text": [
      "      District Name Market Name Commodity  Variety Grade  \\\n",
      "0             Erode   Alangeyam   Coconut  Coconut   FAQ   \n",
      "1             Erode   Alangeyam   Coconut  Coconut   FAQ   \n",
      "2             Erode   Alangeyam   Coconut  Coconut   FAQ   \n",
      "3        Coimbatore   Anaimalai   Coconut    Other   FAQ   \n",
      "4        Coimbatore   Anaimalai   Coconut    Other   FAQ   \n",
      "...             ...         ...       ...      ...   ...   \n",
      "15766      Namakkal       Velur   Coconut    Other   FAQ   \n",
      "15767      Namakkal       Velur   Coconut    Other   FAQ   \n",
      "15768      Namakkal       Velur   Coconut    Other   FAQ   \n",
      "15769      Namakkal       Velur   Coconut    Other   FAQ   \n",
      "15770      Namakkal       Velur   Coconut    Other   FAQ   \n",
      "\n",
      "       Min Price (Rs./Quintal)  Max Price (Rs./Quintal)  \\\n",
      "0                       1250.0                   2250.0   \n",
      "1                       1760.0                   2200.0   \n",
      "2                       1760.0                   2200.0   \n",
      "3                        600.0                   2000.0   \n",
      "4                        600.0                   2200.0   \n",
      "...                        ...                      ...   \n",
      "15766                   8369.0                   9210.0   \n",
      "15767                   8525.0                   9660.0   \n",
      "15768                  11192.0                  13015.0   \n",
      "15769                  12400.0                  13269.0   \n",
      "15770                  12699.0                  13315.0   \n",
      "\n",
      "       Modal Price (Rs./Quintal) Price Date  Day Of Week  \n",
      "0                         1400.0 2017-08-11            4  \n",
      "1                         1940.0 2018-07-16            0  \n",
      "2                         1960.0 2018-06-25            0  \n",
      "3                         1800.0 2015-09-10            3  \n",
      "4                         1800.0 2015-07-18            5  \n",
      "...                          ...        ...          ...  \n",
      "15766                     9210.0 2017-07-21            4  \n",
      "15767                     9015.0 2015-03-13            4  \n",
      "15768                    12800.0 2018-02-23            4  \n",
      "15769                    12869.0 2018-02-02            4  \n",
      "15770                    13000.0 2018-02-09            4  \n",
      "\n",
      "[15771 rows x 10 columns]\n"
     ]
    }
   ],
   "source": [
    "print(df)"
   ]
  },
  {
   "cell_type": "code",
   "execution_count": 147,
   "id": "07e9511e-bfdd-4798-a48a-fa7d20e51c99",
   "metadata": {},
   "outputs": [
    {
     "ename": "KeyError",
     "evalue": "\"['Sl no.'] not found in axis\"",
     "output_type": "error",
     "traceback": [
      "\u001b[31m---------------------------------------------------------------------------\u001b[39m",
      "\u001b[31mKeyError\u001b[39m                                  Traceback (most recent call last)",
      "\u001b[36mCell\u001b[39m\u001b[36m \u001b[39m\u001b[32mIn[147]\u001b[39m\u001b[32m, line 1\u001b[39m\n\u001b[32m----> \u001b[39m\u001b[32m1\u001b[39m df = \u001b[43mdf\u001b[49m\u001b[43m.\u001b[49m\u001b[43mdrop\u001b[49m\u001b[43m(\u001b[49m\u001b[43mcolumns\u001b[49m\u001b[43m=\u001b[49m\u001b[33;43m\"\u001b[39;49m\u001b[33;43mSl no.\u001b[39;49m\u001b[33;43m\"\u001b[39;49m\u001b[43m)\u001b[49m\n\u001b[32m      2\u001b[39m df\n",
      "\u001b[36mFile \u001b[39m\u001b[32m~\\AppData\\Local\\Programs\\Python\\Python312\\Lib\\site-packages\\pandas\\core\\frame.py:5588\u001b[39m, in \u001b[36mDataFrame.drop\u001b[39m\u001b[34m(self, labels, axis, index, columns, level, inplace, errors)\u001b[39m\n\u001b[32m   5440\u001b[39m \u001b[38;5;28;01mdef\u001b[39;00m\u001b[38;5;250m \u001b[39m\u001b[34mdrop\u001b[39m(\n\u001b[32m   5441\u001b[39m     \u001b[38;5;28mself\u001b[39m,\n\u001b[32m   5442\u001b[39m     labels: IndexLabel | \u001b[38;5;28;01mNone\u001b[39;00m = \u001b[38;5;28;01mNone\u001b[39;00m,\n\u001b[32m   (...)\u001b[39m\u001b[32m   5449\u001b[39m     errors: IgnoreRaise = \u001b[33m\"\u001b[39m\u001b[33mraise\u001b[39m\u001b[33m\"\u001b[39m,\n\u001b[32m   5450\u001b[39m ) -> DataFrame | \u001b[38;5;28;01mNone\u001b[39;00m:\n\u001b[32m   5451\u001b[39m \u001b[38;5;250m    \u001b[39m\u001b[33;03m\"\"\"\u001b[39;00m\n\u001b[32m   5452\u001b[39m \u001b[33;03m    Drop specified labels from rows or columns.\u001b[39;00m\n\u001b[32m   5453\u001b[39m \n\u001b[32m   (...)\u001b[39m\u001b[32m   5586\u001b[39m \u001b[33;03m            weight  1.0     0.8\u001b[39;00m\n\u001b[32m   5587\u001b[39m \u001b[33;03m    \"\"\"\u001b[39;00m\n\u001b[32m-> \u001b[39m\u001b[32m5588\u001b[39m     \u001b[38;5;28;01mreturn\u001b[39;00m \u001b[38;5;28;43msuper\u001b[39;49m\u001b[43m(\u001b[49m\u001b[43m)\u001b[49m\u001b[43m.\u001b[49m\u001b[43mdrop\u001b[49m\u001b[43m(\u001b[49m\n\u001b[32m   5589\u001b[39m \u001b[43m        \u001b[49m\u001b[43mlabels\u001b[49m\u001b[43m=\u001b[49m\u001b[43mlabels\u001b[49m\u001b[43m,\u001b[49m\n\u001b[32m   5590\u001b[39m \u001b[43m        \u001b[49m\u001b[43maxis\u001b[49m\u001b[43m=\u001b[49m\u001b[43maxis\u001b[49m\u001b[43m,\u001b[49m\n\u001b[32m   5591\u001b[39m \u001b[43m        \u001b[49m\u001b[43mindex\u001b[49m\u001b[43m=\u001b[49m\u001b[43mindex\u001b[49m\u001b[43m,\u001b[49m\n\u001b[32m   5592\u001b[39m \u001b[43m        \u001b[49m\u001b[43mcolumns\u001b[49m\u001b[43m=\u001b[49m\u001b[43mcolumns\u001b[49m\u001b[43m,\u001b[49m\n\u001b[32m   5593\u001b[39m \u001b[43m        \u001b[49m\u001b[43mlevel\u001b[49m\u001b[43m=\u001b[49m\u001b[43mlevel\u001b[49m\u001b[43m,\u001b[49m\n\u001b[32m   5594\u001b[39m \u001b[43m        \u001b[49m\u001b[43minplace\u001b[49m\u001b[43m=\u001b[49m\u001b[43minplace\u001b[49m\u001b[43m,\u001b[49m\n\u001b[32m   5595\u001b[39m \u001b[43m        \u001b[49m\u001b[43merrors\u001b[49m\u001b[43m=\u001b[49m\u001b[43merrors\u001b[49m\u001b[43m,\u001b[49m\n\u001b[32m   5596\u001b[39m \u001b[43m    \u001b[49m\u001b[43m)\u001b[49m\n",
      "\u001b[36mFile \u001b[39m\u001b[32m~\\AppData\\Local\\Programs\\Python\\Python312\\Lib\\site-packages\\pandas\\core\\generic.py:4807\u001b[39m, in \u001b[36mNDFrame.drop\u001b[39m\u001b[34m(self, labels, axis, index, columns, level, inplace, errors)\u001b[39m\n\u001b[32m   4805\u001b[39m \u001b[38;5;28;01mfor\u001b[39;00m axis, labels \u001b[38;5;129;01min\u001b[39;00m axes.items():\n\u001b[32m   4806\u001b[39m     \u001b[38;5;28;01mif\u001b[39;00m labels \u001b[38;5;129;01mis\u001b[39;00m \u001b[38;5;129;01mnot\u001b[39;00m \u001b[38;5;28;01mNone\u001b[39;00m:\n\u001b[32m-> \u001b[39m\u001b[32m4807\u001b[39m         obj = \u001b[43mobj\u001b[49m\u001b[43m.\u001b[49m\u001b[43m_drop_axis\u001b[49m\u001b[43m(\u001b[49m\u001b[43mlabels\u001b[49m\u001b[43m,\u001b[49m\u001b[43m \u001b[49m\u001b[43maxis\u001b[49m\u001b[43m,\u001b[49m\u001b[43m \u001b[49m\u001b[43mlevel\u001b[49m\u001b[43m=\u001b[49m\u001b[43mlevel\u001b[49m\u001b[43m,\u001b[49m\u001b[43m \u001b[49m\u001b[43merrors\u001b[49m\u001b[43m=\u001b[49m\u001b[43merrors\u001b[49m\u001b[43m)\u001b[49m\n\u001b[32m   4809\u001b[39m \u001b[38;5;28;01mif\u001b[39;00m inplace:\n\u001b[32m   4810\u001b[39m     \u001b[38;5;28mself\u001b[39m._update_inplace(obj)\n",
      "\u001b[36mFile \u001b[39m\u001b[32m~\\AppData\\Local\\Programs\\Python\\Python312\\Lib\\site-packages\\pandas\\core\\generic.py:4849\u001b[39m, in \u001b[36mNDFrame._drop_axis\u001b[39m\u001b[34m(self, labels, axis, level, errors, only_slice)\u001b[39m\n\u001b[32m   4847\u001b[39m         new_axis = axis.drop(labels, level=level, errors=errors)\n\u001b[32m   4848\u001b[39m     \u001b[38;5;28;01melse\u001b[39;00m:\n\u001b[32m-> \u001b[39m\u001b[32m4849\u001b[39m         new_axis = \u001b[43maxis\u001b[49m\u001b[43m.\u001b[49m\u001b[43mdrop\u001b[49m\u001b[43m(\u001b[49m\u001b[43mlabels\u001b[49m\u001b[43m,\u001b[49m\u001b[43m \u001b[49m\u001b[43merrors\u001b[49m\u001b[43m=\u001b[49m\u001b[43merrors\u001b[49m\u001b[43m)\u001b[49m\n\u001b[32m   4850\u001b[39m     indexer = axis.get_indexer(new_axis)\n\u001b[32m   4852\u001b[39m \u001b[38;5;66;03m# Case for non-unique axis\u001b[39;00m\n\u001b[32m   4853\u001b[39m \u001b[38;5;28;01melse\u001b[39;00m:\n",
      "\u001b[36mFile \u001b[39m\u001b[32m~\\AppData\\Local\\Programs\\Python\\Python312\\Lib\\site-packages\\pandas\\core\\indexes\\base.py:7136\u001b[39m, in \u001b[36mIndex.drop\u001b[39m\u001b[34m(self, labels, errors)\u001b[39m\n\u001b[32m   7134\u001b[39m \u001b[38;5;28;01mif\u001b[39;00m mask.any():\n\u001b[32m   7135\u001b[39m     \u001b[38;5;28;01mif\u001b[39;00m errors != \u001b[33m\"\u001b[39m\u001b[33mignore\u001b[39m\u001b[33m\"\u001b[39m:\n\u001b[32m-> \u001b[39m\u001b[32m7136\u001b[39m         \u001b[38;5;28;01mraise\u001b[39;00m \u001b[38;5;167;01mKeyError\u001b[39;00m(\u001b[33mf\u001b[39m\u001b[33m\"\u001b[39m\u001b[38;5;132;01m{\u001b[39;00mlabels[mask].tolist()\u001b[38;5;132;01m}\u001b[39;00m\u001b[33m not found in axis\u001b[39m\u001b[33m\"\u001b[39m)\n\u001b[32m   7137\u001b[39m     indexer = indexer[~mask]\n\u001b[32m   7138\u001b[39m \u001b[38;5;28;01mreturn\u001b[39;00m \u001b[38;5;28mself\u001b[39m.delete(indexer)\n",
      "\u001b[31mKeyError\u001b[39m: \"['Sl no.'] not found in axis\""
     ]
    }
   ],
   "source": [
    "df = df.drop(columns=\"Sl no.\")\n",
    "df"
   ]
  },
  {
   "cell_type": "code",
   "execution_count": 143,
   "id": "d51851be-ee58-4f2f-bce2-e700bed5a192",
   "metadata": {},
   "outputs": [],
   "source": [
    "df.to_csv('./Cleaned CSVs/Coconut-2015-2019.csv', index=False)"
   ]
  }
 ],
 "metadata": {
  "kernelspec": {
   "display_name": "Python 3 (ipykernel)",
   "language": "python",
   "name": "python3"
  },
  "language_info": {
   "codemirror_mode": {
    "name": "ipython",
    "version": 3
   },
   "file_extension": ".py",
   "mimetype": "text/x-python",
   "name": "python",
   "nbconvert_exporter": "python",
   "pygments_lexer": "ipython3",
   "version": "3.12.6"
  }
 },
 "nbformat": 4,
 "nbformat_minor": 5
}
