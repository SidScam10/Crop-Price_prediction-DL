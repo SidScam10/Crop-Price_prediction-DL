{
 "cells": [
  {
   "cell_type": "code",
   "execution_count": null,
   "id": "2c548074",
   "metadata": {
    "ExecuteTime": {
     "end_time": "2025-08-03T08:41:24.282411Z",
     "start_time": "2025-08-03T08:41:24.220425Z"
    }
   },
   "outputs": [
    {
     "data": {
      "text/plain": [
       "array(['Dharmapuri', 'Erode', 'Salem', 'Madurai', 'Ariyalur',\n",
       "       'Coimbatore', 'Ranipet', 'Pudukkottai', 'Thiruvannamalai', 'Theni',\n",
       "       'Villupuram', 'Cuddalore', 'Thirupur', 'Dindigul', 'Chengalpattu',\n",
       "       'Krishnagiri', 'Vellore', 'Kallakuruchi', 'Namakkal',\n",
       "       'Thiruchirappalli', 'Thirupathur', 'Karur', 'Kancheepuram',\n",
       "       'Virudhunagar', 'Tuticorin', 'Nagapattinam'], dtype=object)"
      ]
     },
     "execution_count": 210,
     "metadata": {},
     "output_type": "execute_result"
    }
   ],
   "source": [
    "import pandas as pd\n",
    "import requests\n",
    "import time\n",
    "df_agri=pd.read_csv(\"./Cleaned CSVs/Mango-Raw-Ripe.csv\")\n",
    "df_agri['Price Date'] = pd.to_datetime(df_agri['Price Date'])\n",
    "df_agri['District Name'].unique()"
   ]
  },
  {
   "cell_type": "code",
   "execution_count": 211,
   "id": "a57438da",
   "metadata": {
    "ExecuteTime": {
     "end_time": "2025-08-03T08:41:24.332953Z",
     "start_time": "2025-08-03T08:41:24.330221Z"
    }
   },
   "outputs": [],
   "source": [
    "CROP_LOOKBACK_DAYS = {\n",
    "    'Bajra(Pearl Millet/Cumbu)': 85+30,\n",
    "    'Banana' : 120,\n",
    "    'Banana - Green': 100,\n",
    "    'Black Gram Dal (Urd Dal)': 85+30,\n",
    "    'Cashewnuts': 90+30,\n",
    "    'Coconut': 365,\n",
    "    'Coriander(Leaves)': 120+30,\n",
    "    'Cotton': 180+30,\n",
    "    'Garlic': 270,\n",
    "    'Green Gram Dal (Moong Dal)': 90+30,\n",
    "    'Groundnut': 120+30,\n",
    "    'Guava': 210,\n",
    "    'Jowar(Sorghum)': 130+30,\n",
    "    'Lemon': 180,\n",
    "    'Maize': 120+30,\n",
    "    'Mango (Raw-Ripe)': 140,\n",
    "    'Mango': 150,\n",
    "    'Mousambi(Sweet Lime)': 180,\n",
    "    'Onion': 150,\n",
    "    'Paddy(Dhan)(Common)': 180+30,\n",
    "    'Ragi (Finger Millet)': 135+30,\n",
    "    'Chili Red': 90+30,\n",
    "    'Red Gram': 180+30,\n",
    "    'Rubber': 365,\n",
    "    'Sesamum': 140+30,\n",
    "    'Sugarcane': 540,\n",
    "    'Sunflower': 120+30,\n",
    "    'Tapioca': 365,\n",
    "    'Turmeric': 270\n",
    "}"
   ]
  },
  {
   "cell_type": "code",
   "execution_count": 212,
   "id": "8b25a447",
   "metadata": {
    "ExecuteTime": {
     "end_time": "2025-08-03T08:41:24.415737Z",
     "start_time": "2025-08-03T08:41:24.411073Z"
    }
   },
   "outputs": [],
   "source": [
    "DISTRICT_COORDINATES = {\n",
    "    \"Ariyalur\": {\n",
    "        \"lat\": 11.1530559,\n",
    "        \"lon\": 79.2585797\n",
    "    },\n",
    "    \"Cuddalore\": {\n",
    "        \"lat\": 11.520207,\n",
    "        \"lon\": 79.3396356\n",
    "    },\n",
    "    \"Coimbatore\": {\n",
    "        \"lat\": 11.0018115,\n",
    "        \"lon\": 76.9628425\n",
    "    },\n",
    "    \"Salem\": {\n",
    "        \"lat\": 11.6469616,\n",
    "        \"lon\": 78.2106958\n",
    "    },\n",
    "    \"Vellore\": {\n",
    "        \"lat\": 12.9021849,\n",
    "        \"lon\": 79.061104\n",
    "    },\n",
    "    \"Erode\": {\n",
    "        \"lat\": 11.4905281,\n",
    "        \"lon\": 77.3505274\n",
    "    },\n",
    "    \"Theni\": {\n",
    "        \"lat\": 9.8692558,\n",
    "        \"lon\": 77.4222974\n",
    "    },\n",
    "    \"Namakkal\": {\n",
    "        \"lat\": 11.3033889,\n",
    "        \"lon\": 78.118604\n",
    "    },\n",
    "    \"Villupuram\": {\n",
    "        \"lat\": 11.9398285,\n",
    "        \"lon\": 79.4945645\n",
    "    },\n",
    "    \"Virudhunagar\": {\n",
    "        \"lat\": 9.4926289,\n",
    "        \"lon\": 77.8631831\n",
    "    },\n",
    "    \"Dindigul\": {\n",
    "        \"lat\": 10.4256896,\n",
    "        \"lon\": 77.815664\n",
    "    },\n",
    "    \"Thiruvannamalai\": {\n",
    "        \"lat\": 9.539867,\n",
    "        \"lon\": 77.6197904\n",
    "    },\n",
    "    \"Ramanathapuram\": {\n",
    "        \"lat\": 9.5205576,\n",
    "        \"lon\": 78.5184635\n",
    "    },\n",
    "    \"Tuticorin\": {\n",
    "        \"lat\": 8.8052602,\n",
    "        \"lon\": 78.1452745\n",
    "    },\n",
    "    \"Madurai\": {\n",
    "        \"lat\": 9.9261153,\n",
    "        \"lon\": 78.1140983\n",
    "    },\n",
    "    \"Karur\": {\n",
    "        \"lat\": 10.8217671,\n",
    "        \"lon\": 78.3828654\n",
    "    },\n",
    "    \"Dharmapuri\": {\n",
    "        \"lat\": 12.145613,\n",
    "        \"lon\": 78.1132217\n",
    "    },\n",
    "    \"Pudukkottai\": {\n",
    "        \"lat\": 10.2903072,\n",
    "        \"lon\": 78.8173617\n",
    "    },\n",
    "    \"Ranipet\": {\n",
    "        \"lat\": 12.9186243,\n",
    "        \"lon\": 79.4081921\n",
    "    },\n",
    "    \"Krishnagiri\": {\n",
    "        \"lat\": 12.5152075,\n",
    "        \"lon\": 78.0093769\n",
    "    },\n",
    "    \"Kancheepuram\": {\n",
    "        \"lat\": 12.8796051,\n",
    "        \"lon\": 79.7042762\n",
    "    },\n",
    "    \"Chengalpattu\": {\n",
    "        \"lat\": 12.6840886,\n",
    "        \"lon\": 79.9836371\n",
    "    },\n",
    "    \"The Nilgiris\": {\n",
    "        \"lat\": 11.4,\n",
    "        \"lon\": 76.7\n",
    "    },\n",
    "    \"Sivaganga\": {\n",
    "        \"lat\": 9.8486881,\n",
    "        \"lon\": 78.4870461\n",
    "    },\n",
    "    \"Thirupur\": {\n",
    "        \"lat\": 12.921745,\n",
    "        \"lon\": 80.1375926\n",
    "    },\n",
    "    \"Kallakuruchi\": {\n",
    "        \"lat\": 11.4248929,\n",
    "        \"lon\": 78.2652132\n",
    "    },\n",
    "    \"Thanjavur\": {\n",
    "        \"lat\": 10.659037,\n",
    "        \"lon\": 79.2014278\n",
    "    },\n",
    "    \"Nagapattinam\": {\n",
    "        \"lat\": 10.6026202,\n",
    "        \"lon\": 79.7619348\n",
    "    },\n",
    "    \"Thiruvarur\": {\n",
    "        \"lat\": 10.6878621,\n",
    "        \"lon\": 79.4979437\n",
    "    },\n",
    "    \"Thirupathur\": {\n",
    "        \"lat\": 10.59635,\n",
    "        \"lon\": 79.56857\n",
    "    },\n",
    "    \"Perambalur\": {\n",
    "        \"lat\": 11.2902641,\n",
    "        \"lon\": 78.9300404\n",
    "    },\n",
    "    \"Tenkasi\": {\n",
    "        \"lat\": 9.0933908,\n",
    "        \"lon\": 77.4758373\n",
    "    },\n",
    "    \"Thirunelveli\": {\n",
    "        \"lat\": 8.7150,\n",
    "        \"lon\": 77.7656\n",
    "    },\n",
    "    \"Thiruvellore\" : {\n",
    "        \"lat\": 13.1227,\n",
    "        \"lon\": 79.9118\n",
    "    },\n",
    "    \"Thiruchirappalli\" : {\n",
    "        \"lat\": 10.7905,\n",
    "        \"lon\": 78.7047\n",
    "    },\n",
    "    \"Nagercoil (Kannyiakumari)\" : {\n",
    "        \"lat\": 8.1833,\n",
    "        \"lon\": 77.4119\n",
    "    }\n",
    "}"
   ]
  },
  {
   "cell_type": "code",
   "execution_count": 213,
   "id": "78a8b5dc",
   "metadata": {
    "ExecuteTime": {
     "end_time": "2025-08-03T08:41:24.572966Z",
     "start_time": "2025-08-03T08:41:24.482297Z"
    }
   },
   "outputs": [
    {
     "name": "stdout",
     "output_type": "stream",
     "text": [
      "Districts being processed for this file: ['Ariyalur', 'Cuddalore', 'Coimbatore', 'Salem', 'Vellore', 'Erode', 'Theni', 'Namakkal', 'Villupuram', 'Virudhunagar', 'Dindigul', 'Thiruvannamalai', 'Tuticorin', 'Madurai', 'Karur', 'Dharmapuri', 'Pudukkottai', 'Ranipet', 'Krishnagiri', 'Kancheepuram', 'Chengalpattu', 'Thirupur', 'Kallakuruchi', 'Nagapattinam', 'Thirupathur', 'Thiruchirappalli']\n",
      "Lookbacks being processed for this file: {'Maize': 150}\n"
     ]
    }
   ],
   "source": [
    "districts = {k: v for k, v in DISTRICT_COORDINATES.items() if k in df_agri['District Name'].unique()}\n",
    "lookbacks = {k: v for k, v in CROP_LOOKBACK_DAYS.items() if k in df_agri['Commodity'].unique()}\n",
    "\n",
    "print(f\"Districts being processed for this file: {list(districts.keys())}\")\n",
    "print(f\"Lookbacks being processed for this file: {lookbacks}\")"
   ]
  },
  {
   "cell_type": "code",
   "execution_count": 214,
   "id": "f6029d2e",
   "metadata": {
    "ExecuteTime": {
     "end_time": "2025-08-03T08:41:24.601282Z",
     "start_time": "2025-08-03T08:41:24.597103Z"
    }
   },
   "outputs": [
    {
     "name": "stdout",
     "output_type": "stream",
     "text": [
      "{150}\n"
     ]
    }
   ],
   "source": [
    "all_weather_data = []\n",
    "unique_lookbacks = set(lookbacks.values())\n",
    "start_date = df_agri['Price Date'].min() - pd.Timedelta(days=max(unique_lookbacks, default=0))\n",
    "end_date = df_agri['Price Date'].max()\n",
    "\n",
    "print(unique_lookbacks)"
   ]
  },
  {
   "cell_type": "code",
   "execution_count": 215,
   "id": "53542112",
   "metadata": {
    "ExecuteTime": {
     "end_time": "2025-08-03T08:42:04.649525Z",
     "start_time": "2025-08-03T08:41:24.636195Z"
    }
   },
   "outputs": [
    {
     "name": "stdout",
     "output_type": "stream",
     "text": [
      "Fetching weather data for ['Maize'] in Ariyalur...\n",
      "200\n",
      "Fetching weather data for ['Maize'] in Cuddalore...\n",
      "200\n",
      "Fetching weather data for ['Maize'] in Coimbatore...\n",
      "200\n",
      "Fetching weather data for ['Maize'] in Salem...\n",
      "200\n",
      "Fetching weather data for ['Maize'] in Vellore...\n",
      "200\n",
      "Fetching weather data for ['Maize'] in Erode...\n",
      "200\n",
      "Fetching weather data for ['Maize'] in Theni...\n",
      "200\n",
      "Fetching weather data for ['Maize'] in Namakkal...\n",
      "200\n",
      "Fetching weather data for ['Maize'] in Villupuram...\n",
      "200\n",
      "Fetching weather data for ['Maize'] in Virudhunagar...\n",
      "200\n",
      "Fetching weather data for ['Maize'] in Dindigul...\n",
      "200\n",
      "Fetching weather data for ['Maize'] in Thiruvannamalai...\n",
      "200\n",
      "Fetching weather data for ['Maize'] in Tuticorin...\n",
      "200\n",
      "Fetching weather data for ['Maize'] in Madurai...\n",
      "200\n",
      "Fetching weather data for ['Maize'] in Karur...\n",
      "200\n",
      "Fetching weather data for ['Maize'] in Dharmapuri...\n",
      "200\n",
      "Fetching weather data for ['Maize'] in Pudukkottai...\n",
      "200\n",
      "Fetching weather data for ['Maize'] in Ranipet...\n",
      "200\n",
      "Fetching weather data for ['Maize'] in Krishnagiri...\n",
      "200\n",
      "Fetching weather data for ['Maize'] in Kancheepuram...\n",
      "200\n",
      "Fetching weather data for ['Maize'] in Chengalpattu...\n",
      "200\n",
      "Fetching weather data for ['Maize'] in Thirupur...\n",
      "200\n",
      "Fetching weather data for ['Maize'] in Kallakuruchi...\n",
      "200\n",
      "Fetching weather data for ['Maize'] in Nagapattinam...\n",
      "200\n",
      "Fetching weather data for ['Maize'] in Thirupathur...\n",
      "200\n",
      "Fetching weather data for ['Maize'] in Thiruchirappalli...\n",
      "200\n"
     ]
    }
   ],
   "source": [
    "for district, coords in districts.items():\n",
    "    print(f\"Fetching weather data for {df_agri['Commodity'].unique()} in {district}...\")\n",
    "    \n",
    "    weather_url = f\"https://archive-api.open-meteo.com/v1/archive?latitude={coords['lat']}&longitude={coords['lon']}&start_date={start_date.strftime('%Y-%m-%d')}&end_date={end_date.strftime('%Y-%m-%d')}&daily=temperature_2m_mean,precipitation_sum\"\n",
    "    response = requests.get(weather_url)\n",
    "    \n",
    "    if response.status_code == 200:\n",
    "        df_weather = pd.DataFrame(response.json()['daily'])\n",
    "        df_weather['Price Date'] = pd.to_datetime(df_weather['time'])\n",
    "        df_weather['District Name'] = district\n",
    "\n",
    "        for days in unique_lookbacks:\n",
    "            df_weather[f'temp_mean_{days}d'] = df_weather['temperature_2m_mean'].rolling(window=days, min_periods=1).mean()\n",
    "            df_weather[f'precip_sum_{days}d'] = df_weather['precipitation_sum'].rolling(window=days, min_periods=1).sum()\n",
    "        \n",
    "        all_weather_data.append(df_weather)\n",
    "    print(response.status_code)\n",
    "    time.sleep(10)\n",
    "df_weather_master = pd.concat(all_weather_data)\n"
   ]
  },
  {
   "cell_type": "code",
   "execution_count": 216,
   "id": "de834a2d",
   "metadata": {
    "ExecuteTime": {
     "end_time": "2025-08-03T08:42:04.681660200Z",
     "start_time": "2025-08-03T08:37:51.747558Z"
    }
   },
   "outputs": [
    {
     "name": "stdout",
     "output_type": "stream",
     "text": [
      "            time  temperature_2m_mean  precipitation_sum Price Date  \\\n",
      "0     2021-08-04                 32.4                0.0 2021-08-04   \n",
      "1     2021-08-05                 32.0                0.7 2021-08-05   \n",
      "2     2021-08-06                 30.9                3.1 2021-08-06   \n",
      "3     2021-08-07                 30.1                4.6 2021-08-07   \n",
      "4     2021-08-08                 30.5                0.7 2021-08-08   \n",
      "...          ...                  ...                ...        ...   \n",
      "1443  2025-07-17                 30.6                0.0 2025-07-17   \n",
      "1444  2025-07-18                 30.5                0.8 2025-07-18   \n",
      "1445  2025-07-19                 29.8                2.9 2025-07-19   \n",
      "1446  2025-07-20                 29.6                1.7 2025-07-20   \n",
      "1447  2025-07-21                 29.4                0.0 2025-07-21   \n",
      "\n",
      "         District Name  temp_mean_150d  precip_sum_150d  \n",
      "0             Ariyalur       32.400000              0.0  \n",
      "1             Ariyalur       32.200000              0.7  \n",
      "2             Ariyalur       31.766667              3.8  \n",
      "3             Ariyalur       31.350000              8.4  \n",
      "4             Ariyalur       31.180000              9.1  \n",
      "...                ...             ...              ...  \n",
      "1443  Thiruchirappalli       30.177333            262.1  \n",
      "1444  Thiruchirappalli       30.208667            262.9  \n",
      "1445  Thiruchirappalli       30.232000            265.8  \n",
      "1446  Thiruchirappalli       30.253333            267.5  \n",
      "1447  Thiruchirappalli       30.270667            267.5  \n",
      "\n",
      "[37648 rows x 7 columns]\n"
     ]
    }
   ],
   "source": [
    "print(df_weather_master)"
   ]
  },
  {
   "cell_type": "code",
   "execution_count": 217,
   "id": "7aedb2d2",
   "metadata": {
    "ExecuteTime": {
     "end_time": "2025-08-03T08:42:04.681660200Z",
     "start_time": "2025-08-03T08:37:51.785498Z"
    }
   },
   "outputs": [
    {
     "name": "stdout",
     "output_type": "stream",
     "text": [
      "      District Name                  Market Name Commodity    Variety  Grade  \\\n",
      "0        Dharmapuri  AJattihalli(Farmers Market)     Maize  Deshi Red  Local   \n",
      "1        Dharmapuri  AJattihalli(Farmers Market)     Maize  Deshi Red  Local   \n",
      "2        Dharmapuri  AJattihalli(Farmers Market)     Maize  Deshi Red  Local   \n",
      "3        Dharmapuri  AJattihalli(Farmers Market)     Maize  Deshi Red  Local   \n",
      "4        Dharmapuri  AJattihalli(Farmers Market)     Maize  Deshi Red  Local   \n",
      "...             ...                          ...       ...        ...    ...   \n",
      "20792     Cuddalore                Virudhachalam     Maize     Yellow    FAQ   \n",
      "20793     Cuddalore                Virudhachalam     Maize     Yellow    FAQ   \n",
      "20794  Virudhunagar                 Virudhunagar     Maize      Local    FAQ   \n",
      "20795  Virudhunagar                 Virudhunagar     Maize      Local    FAQ   \n",
      "20796  Virudhunagar                 Virudhunagar     Maize      Local    FAQ   \n",
      "\n",
      "       Min Price (Rs./Quintal)  Max Price (Rs./Quintal)  \\\n",
      "0                       1800.0                   2000.0   \n",
      "1                       1800.0                   2000.0   \n",
      "2                       1800.0                   2000.0   \n",
      "3                       1800.0                   2000.0   \n",
      "4                       1800.0                   2000.0   \n",
      "...                        ...                      ...   \n",
      "20792                   2137.0                   2180.0   \n",
      "20793                   2318.0                   2424.0   \n",
      "20794                   1980.0                   2020.0   \n",
      "20795                   2000.0                   2300.0   \n",
      "20796                   2200.0                   2400.0   \n",
      "\n",
      "       Modal Price (Rs./Quintal) Price Date  Day Of Week        time  \\\n",
      "0                         2000.0 2024-08-02            4  2024-08-02   \n",
      "1                         2000.0 2025-05-03            5  2025-05-03   \n",
      "2                         2000.0 2025-04-05            5  2025-04-05   \n",
      "3                         2000.0 2024-12-14            5  2024-12-14   \n",
      "4                         2000.0 2024-09-19            3  2024-09-19   \n",
      "...                          ...        ...          ...         ...   \n",
      "20792                     2176.0 2023-03-14            1  2023-03-14   \n",
      "20793                     2414.0 2022-06-22            2  2022-06-22   \n",
      "20794                     2010.0 2023-06-08            3  2023-06-08   \n",
      "20795                     2200.0 2023-12-06            2  2023-12-06   \n",
      "20796                     2300.0 2023-11-15            2  2023-11-15   \n",
      "\n",
      "       temperature_2m_mean  precipitation_sum  temp_mean_150d  precip_sum_150d  \n",
      "0                     26.8                1.9       28.598667            445.7  \n",
      "1                     30.4                0.0       25.562000            113.7  \n",
      "2                     27.8                0.0       24.607333            272.6  \n",
      "3                     22.6                0.0       25.782000            736.0  \n",
      "4                     29.3                0.0       27.626667            599.6  \n",
      "...                    ...                ...             ...              ...  \n",
      "20792                 27.6                0.0       24.951333            715.4  \n",
      "20793                 30.1                3.0       28.942667            227.9  \n",
      "20794                 33.0                0.3       29.250000            295.8  \n",
      "20795                 28.2                0.0       29.090000            873.1  \n",
      "20796                 26.9                0.8       29.621333            782.8  \n",
      "\n",
      "[20797 rows x 15 columns]\n"
     ]
    }
   ],
   "source": [
    "df_merged = pd.merge(df_agri, df_weather_master, on=['District Name', 'Price Date'], how='left')\n",
    "print(df_merged)"
   ]
  },
  {
   "cell_type": "code",
   "execution_count": 218,
   "id": "e9ab6dd7",
   "metadata": {
    "ExecuteTime": {
     "end_time": "2025-08-03T08:42:04.697859800Z",
     "start_time": "2025-08-03T08:37:51.826616Z"
    }
   },
   "outputs": [],
   "source": [
    "def get_correct_lookback_value(row, feature_prefix, lookback_dict):\n",
    "    commodity = row['Commodity']\n",
    "    # ** NEW: Check if the commodity exists in our lookback dictionary **\n",
    "    if commodity in lookback_dict:\n",
    "        lookback_days = lookback_dict[commodity]\n",
    "        column_name = f\"{feature_prefix}_{lookback_days}d\"\n",
    "        return row[column_name]\n",
    "    return None\n",
    "\n",
    "df_merged['lookback_temp_mean'] = df_merged.apply(get_correct_lookback_value, feature_prefix='temp_mean', lookback_dict=lookbacks, axis=1)\n",
    "df_merged['lookback_precip_sum'] = df_merged.apply(get_correct_lookback_value, feature_prefix='precip_sum', lookback_dict=lookbacks, axis=1)\n"
   ]
  },
  {
   "cell_type": "code",
   "execution_count": 219,
   "id": "17a63cfc",
   "metadata": {
    "ExecuteTime": {
     "end_time": "2025-08-03T08:42:04.697859800Z",
     "start_time": "2025-08-03T08:37:51.875542Z"
    }
   },
   "outputs": [
    {
     "name": "stdout",
     "output_type": "stream",
     "text": [
      "  District Name                  Market Name Commodity    Variety  Grade  \\\n",
      "0    Dharmapuri  AJattihalli(Farmers Market)     Maize  Deshi Red  Local   \n",
      "1    Dharmapuri  AJattihalli(Farmers Market)     Maize  Deshi Red  Local   \n",
      "2    Dharmapuri  AJattihalli(Farmers Market)     Maize  Deshi Red  Local   \n",
      "3    Dharmapuri  AJattihalli(Farmers Market)     Maize  Deshi Red  Local   \n",
      "4    Dharmapuri  AJattihalli(Farmers Market)     Maize  Deshi Red  Local   \n",
      "\n",
      "   Min Price (Rs./Quintal)  Max Price (Rs./Quintal)  \\\n",
      "0                   1800.0                   2000.0   \n",
      "1                   1800.0                   2000.0   \n",
      "2                   1800.0                   2000.0   \n",
      "3                   1800.0                   2000.0   \n",
      "4                   1800.0                   2000.0   \n",
      "\n",
      "   Modal Price (Rs./Quintal) Price Date  Day Of Week        time  \\\n",
      "0                     2000.0 2024-08-02            4  2024-08-02   \n",
      "1                     2000.0 2025-05-03            5  2025-05-03   \n",
      "2                     2000.0 2025-04-05            5  2025-04-05   \n",
      "3                     2000.0 2024-12-14            5  2024-12-14   \n",
      "4                     2000.0 2024-09-19            3  2024-09-19   \n",
      "\n",
      "   temperature_2m_mean  precipitation_sum  temp_mean_150d  precip_sum_150d  \\\n",
      "0                 26.8                1.9       28.598667            445.7   \n",
      "1                 30.4                0.0       25.562000            113.7   \n",
      "2                 27.8                0.0       24.607333            272.6   \n",
      "3                 22.6                0.0       25.782000            736.0   \n",
      "4                 29.3                0.0       27.626667            599.6   \n",
      "\n",
      "   lookback_temp_mean  lookback_precip_sum  \n",
      "0           28.598667                445.7  \n",
      "1           25.562000                113.7  \n",
      "2           24.607333                272.6  \n",
      "3           25.782000                736.0  \n",
      "4           27.626667                599.6  \n"
     ]
    }
   ],
   "source": [
    "print(df_merged.head())"
   ]
  },
  {
   "cell_type": "code",
   "execution_count": 220,
   "id": "8f0d1d98",
   "metadata": {
    "ExecuteTime": {
     "end_time": "2025-08-03T08:42:04.697859800Z",
     "start_time": "2025-08-03T08:37:51.890218Z"
    }
   },
   "outputs": [],
   "source": [
    "final_columns = [\n",
    "    'District Name', 'Market Name', 'Commodity', 'Variety', 'Grade', 'Min Price (Rs./Quintal)', \n",
    "    'Max Price (Rs./Quintal)', 'Modal Price (Rs./Quintal)', 'Price Date', 'Day Of Week',\n",
    "    'lookback_temp_mean', 'lookback_precip_sum'\n",
    "]\n",
    "\n",
    "df_final = df_merged[[col for col in final_columns if col in df_merged.columns]].copy()\n"
   ]
  },
  {
   "cell_type": "code",
   "execution_count": null,
   "id": "e88019ff",
   "metadata": {
    "ExecuteTime": {
     "end_time": "2025-08-03T08:42:04.707935300Z",
     "start_time": "2025-08-03T08:37:51.939628Z"
    }
   },
   "outputs": [],
   "source": [
    "df_final.to_csv('./Weather_Merged_CSVs/Maize-Raw-Ripe.csv', index=False)"
   ]
  }
 ],
 "metadata": {
  "kernelspec": {
   "display_name": ".venv",
   "language": "python",
   "name": "python3"
  },
  "language_info": {
   "codemirror_mode": {
    "name": "ipython",
    "version": 3
   },
   "file_extension": ".py",
   "mimetype": "text/x-python",
   "name": "python",
   "nbconvert_exporter": "python",
   "pygments_lexer": "ipython3",
   "version": "3.12.6"
  }
 },
 "nbformat": 4,
 "nbformat_minor": 5
}
