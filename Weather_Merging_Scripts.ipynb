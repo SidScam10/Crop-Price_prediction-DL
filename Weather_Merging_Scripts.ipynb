{
 "cells": [
  {
   "cell_type": "code",
   "execution_count": null,
   "id": "2c548074",
   "metadata": {
    "ExecuteTime": {
     "end_time": "2025-08-03T08:41:24.282411Z",
     "start_time": "2025-08-03T08:41:24.220425Z"
    }
   },
   "outputs": [
    {
     "data": {
      "text/plain": [
       "array(['Dharmapuri', 'Pudukkottai', 'Thirunelveli', 'Thiruvellore',\n",
       "       'Salem', 'Madurai', 'Theni', 'Thiruvannamalai', 'Vellore',\n",
       "       'Ranipet', 'Ariyalur', 'Virudhunagar', 'Krishnagiri',\n",
       "       'Kancheepuram', 'Chengalpattu', 'Cuddalore', 'Dindigul',\n",
       "       'The Nilgiris', 'Sivaganga', 'Erode', 'Thirupur', 'Villupuram',\n",
       "       'Kallakuruchi', 'Karur', 'Thiruchirappalli', 'Tuticorin',\n",
       "       'Namakkal', 'Thanjavur', 'Coimbatore', 'Nagapattinam',\n",
       "       'Thiruvarur', 'Thirupathur', 'Ramanathapuram', 'Perambalur',\n",
       "       'Tenkasi', 'Nagercoil (Kannyiakumari)'], dtype=object)"
      ]
     },
     "execution_count": 226,
     "metadata": {},
     "output_type": "execute_result"
    }
   ],
   "source": [
    "import pandas as pd\n",
    "import requests\n",
    "df_agri=pd.read_csv(\"./Cleaned CSVs/Co.csv\")\n",
    "df_agri['Price Date'] = pd.to_datetime(df_agri['Price Date'])\n",
    "df_agri['District Name'].unique()"
   ]
  },
  {
   "cell_type": "code",
   "execution_count": 227,
   "id": "a57438da",
   "metadata": {
    "ExecuteTime": {
     "end_time": "2025-08-03T08:41:24.332953Z",
     "start_time": "2025-08-03T08:41:24.330221Z"
    }
   },
   "outputs": [],
   "source": [
    "CROP_LOOKBACK_DAYS = {\n",
    "    'Bajra(Pearl Millet/Cumbu)': 85+30,\n",
    "    'Banana' : 120,\n",
    "    'Banana - Green': 100,\n",
    "    'Black Gram Dal (Urd Dal)': 85+30,\n",
    "    'Cashewnuts': 90+30,\n",
    "    'Coconut': 365,\n",
    "    'Coriander(Leaves)': 120+30,\n",
    "    'Cotton': 180+30,\n",
    "    'Garlic': 270,\n",
    "    'Gram Dal (Moong Dal)': 90+30,\n",
    "    'Groundnut': 120+30,\n",
    "    'Guava': 210,\n",
    "    'Jowar(Sorghum)': 130+30,\n",
    "    'Lemon': 180,\n",
    "    'Maize': 120+30,\n",
    "    'Mango (Raw-Ripe)': 140,\n",
    "    'Mango': 150,\n",
    "    'Mousambi(Sweet Lime)': 180,\n",
    "    'Onion': 150,\n",
    "    'Paddy(Dhan)(Common)': 180+30,\n",
    "    'Ragi (Finger Millet)': 135+30,\n",
    "    'Chili Red': 90+30,\n",
    "    'Red Gram': 180+30,\n",
    "    'Rubber': 365,\n",
    "    'Sesamum': 140+30,\n",
    "    'Sugarcane': 540,\n",
    "    'Sunflower': 120+30,\n",
    "    'Tapioca': 365,\n",
    "    'Turmeric': 270\n",
    "}"
   ]
  },
  {
   "cell_type": "code",
   "execution_count": 228,
   "id": "8b25a447",
   "metadata": {
    "ExecuteTime": {
     "end_time": "2025-08-03T08:41:24.415737Z",
     "start_time": "2025-08-03T08:41:24.411073Z"
    }
   },
   "outputs": [],
   "source": [
    "DISTRICT_COORDINATES = {\n",
    "    \"Ariyalur\": {\n",
    "        \"lat\": 11.1530559,\n",
    "        \"lon\": 79.2585797\n",
    "    },\n",
    "    \"Cuddalore\": {\n",
    "        \"lat\": 11.520207,\n",
    "        \"lon\": 79.3396356\n",
    "    },\n",
    "    \"Coimbatore\": {\n",
    "        \"lat\": 11.0018115,\n",
    "        \"lon\": 76.9628425\n",
    "    },\n",
    "    \"Salem\": {\n",
    "        \"lat\": 11.6469616,\n",
    "        \"lon\": 78.2106958\n",
    "    },\n",
    "    \"Vellore\": {\n",
    "        \"lat\": 12.9021849,\n",
    "        \"lon\": 79.061104\n",
    "    },\n",
    "    \"Erode\": {\n",
    "        \"lat\": 11.4905281,\n",
    "        \"lon\": 77.3505274\n",
    "    },\n",
    "    \"Theni\": {\n",
    "        \"lat\": 9.8692558,\n",
    "        \"lon\": 77.4222974\n",
    "    },\n",
    "    \"Namakkal\": {\n",
    "        \"lat\": 11.3033889,\n",
    "        \"lon\": 78.118604\n",
    "    },\n",
    "    \"Villupuram\": {\n",
    "        \"lat\": 11.9398285,\n",
    "        \"lon\": 79.4945645\n",
    "    },\n",
    "    \"Virudhunagar\": {\n",
    "        \"lat\": 9.4926289,\n",
    "        \"lon\": 77.8631831\n",
    "    },\n",
    "    \"Dindigul\": {\n",
    "        \"lat\": 10.4256896,\n",
    "        \"lon\": 77.815664\n",
    "    },\n",
    "    \"Thiruvannamalai\": {\n",
    "        \"lat\": 9.539867,\n",
    "        \"lon\": 77.6197904\n",
    "    },\n",
    "    \"Ramanathapuram\": {\n",
    "        \"lat\": 9.5205576,\n",
    "        \"lon\": 78.5184635\n",
    "    },\n",
    "    \"Tuticorin\": {\n",
    "        \"lat\": 8.8052602,\n",
    "        \"lon\": 78.1452745\n",
    "    },\n",
    "    \"Madurai\": {\n",
    "        \"lat\": 9.9261153,\n",
    "        \"lon\": 78.1140983\n",
    "    },\n",
    "    \"Karur\": {\n",
    "        \"lat\": 10.8217671,\n",
    "        \"lon\": 78.3828654\n",
    "    },\n",
    "    \"Dharmapuri\": {\n",
    "        \"lat\": 12.145613,\n",
    "        \"lon\": 78.1132217\n",
    "    },\n",
    "    \"Pudukkottai\": {\n",
    "        \"lat\": 10.2903072,\n",
    "        \"lon\": 78.8173617\n",
    "    },\n",
    "    \"Ranipet\": {\n",
    "        \"lat\": 12.9186243,\n",
    "        \"lon\": 79.4081921\n",
    "    },\n",
    "    \"Krishnagiri\": {\n",
    "        \"lat\": 12.5152075,\n",
    "        \"lon\": 78.0093769\n",
    "    },\n",
    "    \"Kancheepuram\": {\n",
    "        \"lat\": 12.8796051,\n",
    "        \"lon\": 79.7042762\n",
    "    },\n",
    "    \"Chengalpattu\": {\n",
    "        \"lat\": 12.6840886,\n",
    "        \"lon\": 79.9836371\n",
    "    },\n",
    "    \"The Nilgiris\": {\n",
    "        \"lat\": 11.4,\n",
    "        \"lon\": 76.7\n",
    "    },\n",
    "    \"Sivaganga\": {\n",
    "        \"lat\": 9.8486881,\n",
    "        \"lon\": 78.4870461\n",
    "    },\n",
    "    \"Thirupur\": {\n",
    "        \"lat\": 12.921745,\n",
    "        \"lon\": 80.1375926\n",
    "    },\n",
    "    \"Kallakuruchi\": {\n",
    "        \"lat\": 11.4248929,\n",
    "        \"lon\": 78.2652132\n",
    "    },\n",
    "    \"Thanjavur\": {\n",
    "        \"lat\": 10.659037,\n",
    "        \"lon\": 79.2014278\n",
    "    },\n",
    "    \"Nagapattinam\": {\n",
    "        \"lat\": 10.6026202,\n",
    "        \"lon\": 79.7619348\n",
    "    },\n",
    "    \"Thiruvarur\": {\n",
    "        \"lat\": 10.6878621,\n",
    "        \"lon\": 79.4979437\n",
    "    },\n",
    "    \"Thirupathur\": {\n",
    "        \"lat\": 10.59635,\n",
    "        \"lon\": 79.56857\n",
    "    },\n",
    "    \"Perambalur\": {\n",
    "        \"lat\": 11.2902641,\n",
    "        \"lon\": 78.9300404\n",
    "    },\n",
    "    \"Tenkasi\": {\n",
    "        \"lat\": 9.0933908,\n",
    "        \"lon\": 77.4758373\n",
    "    },\n",
    "    \"Thirunelveli\": {\n",
    "        \"lat\": 8.7150,\n",
    "        \"lon\": 77.7656\n",
    "    },\n",
    "    \"Thiruvellore\" : {\n",
    "        \"lat\": 13.1227,\n",
    "        \"lon\": 79.9118\n",
    "    },\n",
    "    \"Thiruchirappalli\" : {\n",
    "        \"lat\": 10.7905,\n",
    "        \"lon\": 78.7047\n",
    "    },\n",
    "    \"Nagercoil (Kannyiakumari)\" : {\n",
    "        \"lat\": 8.1833,\n",
    "        \"lon\": 77.4119\n",
    "    }\n",
    "}"
   ]
  },
  {
   "cell_type": "code",
   "execution_count": 229,
   "id": "78a8b5dc",
   "metadata": {
    "ExecuteTime": {
     "end_time": "2025-08-03T08:41:24.572966Z",
     "start_time": "2025-08-03T08:41:24.482297Z"
    }
   },
   "outputs": [
    {
     "name": "stdout",
     "output_type": "stream",
     "text": [
      "Districts being processed for this file: ['Ariyalur', 'Cuddalore', 'Coimbatore', 'Salem', 'Vellore', 'Erode', 'Theni', 'Namakkal', 'Villupuram', 'Virudhunagar', 'Dindigul', 'Thiruvannamalai', 'Ramanathapuram', 'Tuticorin', 'Madurai', 'Karur', 'Dharmapuri', 'Pudukkottai', 'Ranipet', 'Krishnagiri', 'Kancheepuram', 'Chengalpattu', 'The Nilgiris', 'Sivaganga', 'Thirupur', 'Kallakuruchi', 'Thanjavur', 'Nagapattinam', 'Thiruvarur', 'Thirupathur', 'Perambalur', 'Tenkasi', 'Thirunelveli', 'Thiruvellore', 'Thiruchirappalli', 'Nagercoil (Kannyiakumari)']\n",
      "Lookbacks being processed for this file: {'Coriander(Leaves)': 150}\n"
     ]
    }
   ],
   "source": [
    "districts = {k: v for k, v in DISTRICT_COORDINATES.items() if k in df_agri['District Name'].unique()}\n",
    "lookbacks = {k: v for k, v in CROP_LOOKBACK_DAYS.items() if k in df_agri['Commodity'].unique()}\n",
    "\n",
    "print(f\"Districts being processed for this file: {list(districts.keys())}\")\n",
    "print(f\"Lookbacks being processed for this file: {lookbacks}\")"
   ]
  },
  {
   "cell_type": "code",
   "execution_count": 230,
   "id": "f6029d2e",
   "metadata": {
    "ExecuteTime": {
     "end_time": "2025-08-03T08:41:24.601282Z",
     "start_time": "2025-08-03T08:41:24.597103Z"
    }
   },
   "outputs": [
    {
     "name": "stdout",
     "output_type": "stream",
     "text": [
      "{150}\n"
     ]
    }
   ],
   "source": [
    "all_weather_data = []\n",
    "unique_lookbacks = set(lookbacks.values())\n",
    "start_date = df_agri['Price Date'].min() - pd.Timedelta(days=max(unique_lookbacks, default=0))\n",
    "end_date = df_agri['Price Date'].max()\n",
    "\n",
    "print(unique_lookbacks)"
   ]
  },
  {
   "cell_type": "code",
   "execution_count": 231,
   "id": "53542112",
   "metadata": {
    "ExecuteTime": {
     "end_time": "2025-08-03T08:42:04.649525Z",
     "start_time": "2025-08-03T08:41:24.636195Z"
    }
   },
   "outputs": [
    {
     "name": "stdout",
     "output_type": "stream",
     "text": [
      "Fetching weather data for ['Coriander(Leaves)'] in Ariyalur...\n",
      "Fetching weather data for ['Coriander(Leaves)'] in Cuddalore...\n",
      "Fetching weather data for ['Coriander(Leaves)'] in Coimbatore...\n",
      "Fetching weather data for ['Coriander(Leaves)'] in Salem...\n",
      "Fetching weather data for ['Coriander(Leaves)'] in Vellore...\n",
      "Fetching weather data for ['Coriander(Leaves)'] in Erode...\n",
      "Fetching weather data for ['Coriander(Leaves)'] in Theni...\n",
      "Fetching weather data for ['Coriander(Leaves)'] in Namakkal...\n",
      "Fetching weather data for ['Coriander(Leaves)'] in Villupuram...\n",
      "Fetching weather data for ['Coriander(Leaves)'] in Virudhunagar...\n",
      "Fetching weather data for ['Coriander(Leaves)'] in Dindigul...\n",
      "Fetching weather data for ['Coriander(Leaves)'] in Thiruvannamalai...\n",
      "Fetching weather data for ['Coriander(Leaves)'] in Ramanathapuram...\n",
      "Fetching weather data for ['Coriander(Leaves)'] in Tuticorin...\n",
      "Fetching weather data for ['Coriander(Leaves)'] in Madurai...\n",
      "Fetching weather data for ['Coriander(Leaves)'] in Karur...\n",
      "Fetching weather data for ['Coriander(Leaves)'] in Dharmapuri...\n",
      "Fetching weather data for ['Coriander(Leaves)'] in Pudukkottai...\n",
      "Fetching weather data for ['Coriander(Leaves)'] in Ranipet...\n",
      "Fetching weather data for ['Coriander(Leaves)'] in Krishnagiri...\n",
      "Fetching weather data for ['Coriander(Leaves)'] in Kancheepuram...\n",
      "Fetching weather data for ['Coriander(Leaves)'] in Chengalpattu...\n",
      "Fetching weather data for ['Coriander(Leaves)'] in The Nilgiris...\n",
      "Fetching weather data for ['Coriander(Leaves)'] in Sivaganga...\n",
      "Fetching weather data for ['Coriander(Leaves)'] in Thirupur...\n",
      "Fetching weather data for ['Coriander(Leaves)'] in Kallakuruchi...\n",
      "Fetching weather data for ['Coriander(Leaves)'] in Thanjavur...\n",
      "Fetching weather data for ['Coriander(Leaves)'] in Nagapattinam...\n",
      "Fetching weather data for ['Coriander(Leaves)'] in Thiruvarur...\n",
      "Fetching weather data for ['Coriander(Leaves)'] in Thirupathur...\n",
      "Fetching weather data for ['Coriander(Leaves)'] in Perambalur...\n",
      "Fetching weather data for ['Coriander(Leaves)'] in Tenkasi...\n",
      "Fetching weather data for ['Coriander(Leaves)'] in Thirunelveli...\n",
      "Fetching weather data for ['Coriander(Leaves)'] in Thiruvellore...\n",
      "Fetching weather data for ['Coriander(Leaves)'] in Thiruchirappalli...\n",
      "Fetching weather data for ['Coriander(Leaves)'] in Nagercoil (Kannyiakumari)...\n"
     ]
    }
   ],
   "source": [
    "for district, coords in districts.items():\n",
    "    print(f\"Fetching weather data for {df_agri['Commodity'].unique()} in {district}...\")\n",
    "    \n",
    "    weather_url = f\"https://archive-api.open-meteo.com/v1/archive?latitude={coords['lat']}&longitude={coords['lon']}&start_date={start_date.strftime('%Y-%m-%d')}&end_date={end_date.strftime('%Y-%m-%d')}&daily=temperature_2m_mean,precipitation_sum\"\n",
    "    response = requests.get(weather_url)\n",
    "    \n",
    "    if response.status_code == 200:\n",
    "        df_weather = pd.DataFrame(response.json()['daily'])\n",
    "        df_weather['Price Date'] = pd.to_datetime(df_weather['time'])\n",
    "        df_weather['District Name'] = district\n",
    "\n",
    "        for days in unique_lookbacks:\n",
    "            df_weather[f'temp_mean_{days}d'] = df_weather['temperature_2m_mean'].rolling(window=days, min_periods=1).mean()\n",
    "            df_weather[f'precip_sum_{days}d'] = df_weather['precipitation_sum'].rolling(window=days, min_periods=1).sum()\n",
    "        \n",
    "        all_weather_data.append(df_weather)\n",
    "\n",
    "df_weather_master = pd.concat(all_weather_data)"
   ]
  },
  {
   "cell_type": "code",
   "execution_count": 232,
   "id": "de834a2d",
   "metadata": {
    "ExecuteTime": {
     "end_time": "2025-08-03T08:42:04.681660200Z",
     "start_time": "2025-08-03T08:37:51.747558Z"
    }
   },
   "outputs": [
    {
     "name": "stdout",
     "output_type": "stream",
     "text": [
      "            time  temperature_2m_mean  precipitation_sum Price Date  \\\n",
      "0     2014-09-01                 30.6                0.4 2014-09-01   \n",
      "1     2014-09-02                 29.7                5.8 2014-09-02   \n",
      "2     2014-09-03                 29.4                1.1 2014-09-03   \n",
      "3     2014-09-04                 29.0                1.4 2014-09-04   \n",
      "4     2014-09-05                 29.4                2.7 2014-09-05   \n",
      "...          ...                  ...                ...        ...   \n",
      "3972  2025-07-17                 31.3                0.0 2025-07-17   \n",
      "3973  2025-07-18                 30.7                0.2 2025-07-18   \n",
      "3974  2025-07-19                 27.9                4.9 2025-07-19   \n",
      "3975  2025-07-20                 29.0                0.4 2025-07-20   \n",
      "3976  2025-07-21                 29.8                0.0 2025-07-21   \n",
      "\n",
      "     District Name  temp_mean_150d  precip_sum_150d  \n",
      "0         Ariyalur       30.600000              0.4  \n",
      "1         Ariyalur       30.150000              6.2  \n",
      "2         Ariyalur       29.900000              7.3  \n",
      "3         Ariyalur       29.675000              8.7  \n",
      "4         Ariyalur       29.620000             11.4  \n",
      "...            ...             ...              ...  \n",
      "3972       Madurai       30.184000            285.3  \n",
      "3973       Madurai       30.211333            285.5  \n",
      "3974       Madurai       30.216667            290.4  \n",
      "3975       Madurai       30.226000            290.8  \n",
      "3976       Madurai       30.240000            290.8  \n",
      "\n",
      "[59655 rows x 7 columns]\n"
     ]
    }
   ],
   "source": [
    "print(df_weather_master)"
   ]
  },
  {
   "cell_type": "code",
   "execution_count": 233,
   "id": "7aedb2d2",
   "metadata": {
    "ExecuteTime": {
     "end_time": "2025-08-03T08:42:04.681660200Z",
     "start_time": "2025-08-03T08:37:51.785498Z"
    }
   },
   "outputs": [
    {
     "name": "stdout",
     "output_type": "stream",
     "text": [
      "      District Name                    Market Name          Commodity Variety  \\\n",
      "0        Dharmapuri    AJattihalli(Farmers Market)  Coriander(Leaves)  I Sort   \n",
      "1        Dharmapuri    AJattihalli(Farmers Market)  Coriander(Leaves)  I Sort   \n",
      "2        Dharmapuri    AJattihalli(Farmers Market)  Coriander(Leaves)  I Sort   \n",
      "3        Dharmapuri    AJattihalli(Farmers Market)  Coriander(Leaves)  I Sort   \n",
      "4        Dharmapuri    AJattihalli(Farmers Market)  Coriander(Leaves)  I Sort   \n",
      "...             ...                            ...                ...     ...   \n",
      "55529     Cuddalore  Viruthachalam(Farmers Market)  Coriander(Leaves)  I Sort   \n",
      "55530     Cuddalore  Viruthachalam(Farmers Market)  Coriander(Leaves)  I Sort   \n",
      "55531     Cuddalore  Viruthachalam(Farmers Market)  Coriander(Leaves)  I Sort   \n",
      "55532     Cuddalore  Viruthachalam(Farmers Market)  Coriander(Leaves)  I Sort   \n",
      "55533     Cuddalore  Viruthachalam(Farmers Market)  Coriander(Leaves)  I Sort   \n",
      "\n",
      "       Grade  Min Price (Rs./Quintal)  Max Price (Rs./Quintal)  \\\n",
      "0      Local                   1500.0                   2000.0   \n",
      "1      Local                   1500.0                   2000.0   \n",
      "2      Local                   1800.0                   2000.0   \n",
      "3      Local                   2000.0                   2500.0   \n",
      "4      Local                   2000.0                   2500.0   \n",
      "...      ...                      ...                      ...   \n",
      "55529  Local                   8000.0                   8000.0   \n",
      "55530  Local                   8000.0                   8000.0   \n",
      "55531  Local                   8000.0                   8000.0   \n",
      "55532  Local                   8000.0                   8000.0   \n",
      "55533  Local                  10000.0                  10000.0   \n",
      "\n",
      "       Modal Price (Rs./Quintal) Price Date  Day Of Week        time  \\\n",
      "0                         2000.0 2024-08-19            0         NaN   \n",
      "1                         2000.0 2024-08-20            1         NaN   \n",
      "2                         2000.0 2024-07-22            0         NaN   \n",
      "3                         2500.0 2024-08-03            5         NaN   \n",
      "4                         2500.0 2024-08-12            0         NaN   \n",
      "...                          ...        ...          ...         ...   \n",
      "55529                     8000.0 2024-09-24            1  2024-09-24   \n",
      "55530                     8000.0 2024-09-25            2  2024-09-25   \n",
      "55531                     8000.0 2024-08-30            4  2024-08-30   \n",
      "55532                     8000.0 2024-08-31            5  2024-08-31   \n",
      "55533                    10000.0 2024-09-16            0  2024-09-16   \n",
      "\n",
      "       temperature_2m_mean  precipitation_sum  temp_mean_150d  precip_sum_150d  \n",
      "0                      NaN                NaN             NaN              NaN  \n",
      "1                      NaN                NaN             NaN              NaN  \n",
      "2                      NaN                NaN             NaN              NaN  \n",
      "3                      NaN                NaN             NaN              NaN  \n",
      "4                      NaN                NaN             NaN              NaN  \n",
      "...                    ...                ...             ...              ...  \n",
      "55529                 30.1                9.8       30.306000            695.6  \n",
      "55530                 30.8                0.3       30.297333            695.9  \n",
      "55531                 28.1                9.4       30.412000            672.2  \n",
      "55532                 28.5                0.1       30.391333            672.2  \n",
      "55533                 32.2                0.1       30.359333            663.6  \n",
      "\n",
      "[55534 rows x 15 columns]\n"
     ]
    }
   ],
   "source": [
    "df_merged = pd.merge(df_agri, df_weather_master, on=['District Name', 'Price Date'], how='left')\n",
    "print(df_merged)"
   ]
  },
  {
   "cell_type": "code",
   "execution_count": 234,
   "id": "e9ab6dd7",
   "metadata": {
    "ExecuteTime": {
     "end_time": "2025-08-03T08:42:04.697859800Z",
     "start_time": "2025-08-03T08:37:51.826616Z"
    }
   },
   "outputs": [],
   "source": [
    "def get_correct_lookback_value(row, feature_prefix, lookback_dict):\n",
    "    commodity = row['Commodity']\n",
    "    # ** NEW: Check if the commodity exists in our lookback dictionary **\n",
    "    if commodity in lookback_dict:\n",
    "        lookback_days = lookback_dict[commodity]\n",
    "        column_name = f\"{feature_prefix}_{lookback_days}d\"\n",
    "        return row[column_name]\n",
    "    return None\n",
    "\n",
    "df_merged['lookback_temp_mean'] = df_merged.apply(get_correct_lookback_value, feature_prefix='temp_mean', lookback_dict=lookbacks, axis=1)\n",
    "df_merged['lookback_precip_sum'] = df_merged.apply(get_correct_lookback_value, feature_prefix='precip_sum', lookback_dict=lookbacks, axis=1)\n"
   ]
  },
  {
   "cell_type": "code",
   "execution_count": 235,
   "id": "17a63cfc",
   "metadata": {
    "ExecuteTime": {
     "end_time": "2025-08-03T08:42:04.697859800Z",
     "start_time": "2025-08-03T08:37:51.875542Z"
    }
   },
   "outputs": [
    {
     "name": "stdout",
     "output_type": "stream",
     "text": [
      "  District Name                  Market Name          Commodity Variety  \\\n",
      "0    Dharmapuri  AJattihalli(Farmers Market)  Coriander(Leaves)  I Sort   \n",
      "1    Dharmapuri  AJattihalli(Farmers Market)  Coriander(Leaves)  I Sort   \n",
      "2    Dharmapuri  AJattihalli(Farmers Market)  Coriander(Leaves)  I Sort   \n",
      "3    Dharmapuri  AJattihalli(Farmers Market)  Coriander(Leaves)  I Sort   \n",
      "4    Dharmapuri  AJattihalli(Farmers Market)  Coriander(Leaves)  I Sort   \n",
      "\n",
      "   Grade  Min Price (Rs./Quintal)  Max Price (Rs./Quintal)  \\\n",
      "0  Local                   1500.0                   2000.0   \n",
      "1  Local                   1500.0                   2000.0   \n",
      "2  Local                   1800.0                   2000.0   \n",
      "3  Local                   2000.0                   2500.0   \n",
      "4  Local                   2000.0                   2500.0   \n",
      "\n",
      "   Modal Price (Rs./Quintal) Price Date  Day Of Week time  \\\n",
      "0                     2000.0 2024-08-19            0  NaN   \n",
      "1                     2000.0 2024-08-20            1  NaN   \n",
      "2                     2000.0 2024-07-22            0  NaN   \n",
      "3                     2500.0 2024-08-03            5  NaN   \n",
      "4                     2500.0 2024-08-12            0  NaN   \n",
      "\n",
      "   temperature_2m_mean  precipitation_sum  temp_mean_150d  precip_sum_150d  \\\n",
      "0                  NaN                NaN             NaN              NaN   \n",
      "1                  NaN                NaN             NaN              NaN   \n",
      "2                  NaN                NaN             NaN              NaN   \n",
      "3                  NaN                NaN             NaN              NaN   \n",
      "4                  NaN                NaN             NaN              NaN   \n",
      "\n",
      "   lookback_temp_mean  lookback_precip_sum  \n",
      "0                 NaN                  NaN  \n",
      "1                 NaN                  NaN  \n",
      "2                 NaN                  NaN  \n",
      "3                 NaN                  NaN  \n",
      "4                 NaN                  NaN  \n"
     ]
    }
   ],
   "source": [
    "print(df_merged.head())"
   ]
  },
  {
   "cell_type": "code",
   "execution_count": 236,
   "id": "8f0d1d98",
   "metadata": {
    "ExecuteTime": {
     "end_time": "2025-08-03T08:42:04.697859800Z",
     "start_time": "2025-08-03T08:37:51.890218Z"
    }
   },
   "outputs": [],
   "source": [
    "final_columns = [\n",
    "    'District Name', 'Market Name', 'Commodity', 'Variety', 'Grade', 'Min Price (Rs./Quintal)', \n",
    "    'Max Price (Rs./Quintal)', 'Modal Price (Rs./Quintal)', 'Price Date', 'Day Of Week',\n",
    "    'lookback_temp_mean', 'lookback_precip_sum'\n",
    "]\n",
    "\n",
    "df_final = df_merged[[col for col in final_columns if col in df_merged.columns]].copy()\n"
   ]
  },
  {
   "cell_type": "code",
   "execution_count": 237,
   "id": "e88019ff",
   "metadata": {
    "ExecuteTime": {
     "end_time": "2025-08-03T08:42:04.707935300Z",
     "start_time": "2025-08-03T08:37:51.939628Z"
    }
   },
   "outputs": [],
   "source": [
    "df_final.to_csv('./Weather_Merged_CSVs/Corriander.csv', index=False)"
   ]
  }
 ],
 "metadata": {
  "kernelspec": {
   "display_name": ".venv",
   "language": "python",
   "name": "python3"
  },
  "language_info": {
   "codemirror_mode": {
    "name": "ipython",
    "version": 3
   },
   "file_extension": ".py",
   "mimetype": "text/x-python",
   "name": "python",
   "nbconvert_exporter": "python",
   "pygments_lexer": "ipython3",
   "version": "3.12.6"
  }
 },
 "nbformat": 4,
 "nbformat_minor": 5
}
