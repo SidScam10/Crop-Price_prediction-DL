{
 "cells": [
  {
   "cell_type": "code",
   "execution_count": 26,
   "id": "2c548074",
   "metadata": {},
   "outputs": [
    {
     "data": {
      "text/html": [
       "<div>\n",
       "<style scoped>\n",
       "    .dataframe tbody tr th:only-of-type {\n",
       "        vertical-align: middle;\n",
       "    }\n",
       "\n",
       "    .dataframe tbody tr th {\n",
       "        vertical-align: top;\n",
       "    }\n",
       "\n",
       "    .dataframe thead th {\n",
       "        text-align: right;\n",
       "    }\n",
       "</style>\n",
       "<table border=\"1\" class=\"dataframe\">\n",
       "  <thead>\n",
       "    <tr style=\"text-align: right;\">\n",
       "      <th></th>\n",
       "      <th>District Name</th>\n",
       "      <th>Market Name</th>\n",
       "      <th>Commodity</th>\n",
       "      <th>Variety</th>\n",
       "      <th>Grade</th>\n",
       "      <th>Min Price (Rs./Quintal)</th>\n",
       "      <th>Max Price (Rs./Quintal)</th>\n",
       "      <th>Modal Price (Rs./Quintal)</th>\n",
       "      <th>Price Date</th>\n",
       "      <th>Day Of Week</th>\n",
       "    </tr>\n",
       "  </thead>\n",
       "  <tbody>\n",
       "    <tr>\n",
       "      <th>0</th>\n",
       "      <td>Ariyalur</td>\n",
       "      <td>Ariyalur Market</td>\n",
       "      <td>Bajra(Pearl Millet/Cumbu)</td>\n",
       "      <td>Other</td>\n",
       "      <td>FAQ</td>\n",
       "      <td>1371.0</td>\n",
       "      <td>1379.0</td>\n",
       "      <td>1372.0</td>\n",
       "      <td>2017-11-22</td>\n",
       "      <td>2</td>\n",
       "    </tr>\n",
       "    <tr>\n",
       "      <th>1</th>\n",
       "      <td>Ariyalur</td>\n",
       "      <td>Ariyalur Market</td>\n",
       "      <td>Bajra(Pearl Millet/Cumbu)</td>\n",
       "      <td>Other</td>\n",
       "      <td>FAQ</td>\n",
       "      <td>1371.0</td>\n",
       "      <td>1480.0</td>\n",
       "      <td>1480.0</td>\n",
       "      <td>2016-01-18</td>\n",
       "      <td>0</td>\n",
       "    </tr>\n",
       "    <tr>\n",
       "      <th>2</th>\n",
       "      <td>Ariyalur</td>\n",
       "      <td>Ariyalur Market</td>\n",
       "      <td>Bajra(Pearl Millet/Cumbu)</td>\n",
       "      <td>Other</td>\n",
       "      <td>FAQ</td>\n",
       "      <td>1700.0</td>\n",
       "      <td>1739.0</td>\n",
       "      <td>1728.0</td>\n",
       "      <td>2017-08-29</td>\n",
       "      <td>1</td>\n",
       "    </tr>\n",
       "    <tr>\n",
       "      <th>3</th>\n",
       "      <td>Ariyalur</td>\n",
       "      <td>Ariyalur Market</td>\n",
       "      <td>Bajra(Pearl Millet/Cumbu)</td>\n",
       "      <td>Other</td>\n",
       "      <td>FAQ</td>\n",
       "      <td>1960.0</td>\n",
       "      <td>2000.0</td>\n",
       "      <td>2000.0</td>\n",
       "      <td>2015-03-10</td>\n",
       "      <td>1</td>\n",
       "    </tr>\n",
       "    <tr>\n",
       "      <th>4</th>\n",
       "      <td>Cuddalore</td>\n",
       "      <td>Cuddalore</td>\n",
       "      <td>Bajra(Pearl Millet/Cumbu)</td>\n",
       "      <td>Bold</td>\n",
       "      <td>FAQ</td>\n",
       "      <td>1519.0</td>\n",
       "      <td>1519.0</td>\n",
       "      <td>1519.0</td>\n",
       "      <td>2016-08-29</td>\n",
       "      <td>0</td>\n",
       "    </tr>\n",
       "  </tbody>\n",
       "</table>\n",
       "</div>"
      ],
      "text/plain": [
       "  District Name      Market Name                  Commodity Variety Grade  \\\n",
       "0      Ariyalur  Ariyalur Market  Bajra(Pearl Millet/Cumbu)   Other   FAQ   \n",
       "1      Ariyalur  Ariyalur Market  Bajra(Pearl Millet/Cumbu)   Other   FAQ   \n",
       "2      Ariyalur  Ariyalur Market  Bajra(Pearl Millet/Cumbu)   Other   FAQ   \n",
       "3      Ariyalur  Ariyalur Market  Bajra(Pearl Millet/Cumbu)   Other   FAQ   \n",
       "4     Cuddalore        Cuddalore  Bajra(Pearl Millet/Cumbu)    Bold   FAQ   \n",
       "\n",
       "   Min Price (Rs./Quintal)  Max Price (Rs./Quintal)  \\\n",
       "0                   1371.0                   1379.0   \n",
       "1                   1371.0                   1480.0   \n",
       "2                   1700.0                   1739.0   \n",
       "3                   1960.0                   2000.0   \n",
       "4                   1519.0                   1519.0   \n",
       "\n",
       "   Modal Price (Rs./Quintal) Price Date  Day Of Week  \n",
       "0                     1372.0 2017-11-22            2  \n",
       "1                     1480.0 2016-01-18            0  \n",
       "2                     1728.0 2017-08-29            1  \n",
       "3                     2000.0 2015-03-10            1  \n",
       "4                     1519.0 2016-08-29            0  "
      ]
     },
     "execution_count": 26,
     "metadata": {},
     "output_type": "execute_result"
    }
   ],
   "source": [
    "import pandas as pd\n",
    "import requests\n",
    "df_agri=pd.read_csv(\"./Cleaned CSVs/Bajra-2015-2019.csv\")\n",
    "df_agri['Price Date'] = pd.to_datetime(df_agri['Price Date'])\n",
    "df_agri.head()"
   ]
  },
  {
   "cell_type": "code",
   "execution_count": 27,
   "id": "a57438da",
   "metadata": {},
   "outputs": [],
   "source": [
    "CROP_LOOKBACK_DAYS = {\n",
    "    'Bajra(Pearl Millet/Cumbu)': 90,\n",
    "    \n",
    "    'Maize': 120,\n",
    "    'Paddy': 135\n",
    "}"
   ]
  },
  {
   "cell_type": "code",
   "execution_count": 28,
   "id": "8b25a447",
   "metadata": {},
   "outputs": [],
   "source": [
    "DISTRICT_COORDINATES = {\n",
    "    'Ariyalur' : {'lat' : 11.1404, 'lon' : 79.0745},\n",
    "    'Cuddalore' : {'lat' : 11.7480, 'lon' : 79.7714},\n",
    "    'Coimbatore': {'lat': 11.0168, 'lon': 76.9558},\n",
    "    'Salem' : {'lat' : 11.6643, 'lon' : 78.1460},\n",
    "    'Vellore' : {'lat' : 12.9236, 'lon' : 79.1331},\n",
    "    'Erode' : {'lat' : 11.3410, 'lon' : 77.7172},\n",
    "    'Theni' : {'lat' : 10.0079, 'lon' : 77.4735},\n",
    "\n",
    "    'Tiruchirappalli': {'lat': 10.7905, 'lon': 78.7047},\n",
    "    'Madurai': {'lat': 9.9252, 'lon': 78.1198}\n",
    "}"
   ]
  },
  {
   "cell_type": "code",
   "execution_count": 29,
   "id": "78a8b5dc",
   "metadata": {},
   "outputs": [
    {
     "name": "stdout",
     "output_type": "stream",
     "text": [
      "Districts being processed for this file: ['Ariyalur', 'Cuddalore', 'Coimbatore', 'Salem', 'Vellore', 'Erode', 'Theni']\n",
      "Lookbacks being processed for this file: {'Bajra(Pearl Millet/Cumbu)': 90}\n"
     ]
    }
   ],
   "source": [
    "districts = {k: v for k, v in DISTRICT_COORDINATES.items() if k in df_agri['District Name'].unique()}\n",
    "lookbacks = {k: v for k, v in CROP_LOOKBACK_DAYS.items() if k in df_agri['Commodity'].unique()}\n",
    "\n",
    "print(f\"Districts being processed for this file: {list(districts.keys())}\")\n",
    "print(f\"Lookbacks being processed for this file: {lookbacks}\")"
   ]
  },
  {
   "cell_type": "code",
   "execution_count": 35,
   "id": "f6029d2e",
   "metadata": {},
   "outputs": [
    {
     "name": "stdout",
     "output_type": "stream",
     "text": [
      "{90}\n"
     ]
    }
   ],
   "source": [
    "all_weather_data = []\n",
    "unique_lookbacks = set(lookbacks.values())\n",
    "start_date = df_agri['Price Date'].min() - pd.Timedelta(days=max(unique_lookbacks, default=0))\n",
    "end_date = df_agri['Price Date'].max()\n",
    "\n",
    "print(unique_lookbacks)"
   ]
  },
  {
   "cell_type": "code",
   "execution_count": 38,
   "id": "53542112",
   "metadata": {},
   "outputs": [
    {
     "name": "stdout",
     "output_type": "stream",
     "text": [
      "Fetching weather data for ['Bajra(Pearl Millet/Cumbu)'] in Ariyalur...\n",
      "Fetching weather data for ['Bajra(Pearl Millet/Cumbu)'] in Cuddalore...\n",
      "Fetching weather data for ['Bajra(Pearl Millet/Cumbu)'] in Coimbatore...\n",
      "Fetching weather data for ['Bajra(Pearl Millet/Cumbu)'] in Salem...\n",
      "Fetching weather data for ['Bajra(Pearl Millet/Cumbu)'] in Vellore...\n",
      "Fetching weather data for ['Bajra(Pearl Millet/Cumbu)'] in Erode...\n",
      "Fetching weather data for ['Bajra(Pearl Millet/Cumbu)'] in Theni...\n"
     ]
    }
   ],
   "source": [
    "for district, coords in districts.items():\n",
    "    print(f\"Fetching weather data for {df_agri['Commodity'].unique()} in {district}...\")\n",
    "    \n",
    "    weather_url = f\"https://archive-api.open-meteo.com/v1/archive?latitude={coords['lat']}&longitude={coords['lon']}&start_date={start_date.strftime('%Y-%m-%d')}&end_date={end_date.strftime('%Y-%m-%d')}&daily=temperature_2m_mean,precipitation_sum\"\n",
    "    response = requests.get(weather_url)\n",
    "    \n",
    "    if response.status_code == 200:\n",
    "        df_weather = pd.DataFrame(response.json()['daily'])\n",
    "        df_weather['Price Date'] = pd.to_datetime(df_weather['time'])\n",
    "        df_weather['District Name'] = district\n",
    "\n",
    "        for days in unique_lookbacks:\n",
    "            df_weather[f'temp_mean_{days}d'] = df_weather['temperature_2m_mean'].rolling(window=days, min_periods=1).mean()\n",
    "            df_weather[f'precip_sum_{days}d'] = df_weather['precipitation_sum'].rolling(window=days, min_periods=1).sum()\n",
    "        \n",
    "        all_weather_data.append(df_weather)\n",
    "\n",
    "df_weather_master = pd.concat(all_weather_data)"
   ]
  },
  {
   "cell_type": "code",
   "execution_count": 40,
   "id": "de834a2d",
   "metadata": {},
   "outputs": [
    {
     "name": "stdout",
     "output_type": "stream",
     "text": [
      "            time  temperature_2m_mean  precipitation_sum Price Date  \\\n",
      "0     2014-10-16                 26.3                7.6 2014-10-16   \n",
      "1     2014-10-17                 25.0               15.0 2014-10-17   \n",
      "2     2014-10-18                 24.1               22.8 2014-10-18   \n",
      "3     2014-10-19                 23.5               29.9 2014-10-19   \n",
      "4     2014-10-20                 23.6               39.2 2014-10-20   \n",
      "...          ...                  ...                ...        ...   \n",
      "1521  2018-12-15                 24.1                0.0 2018-12-15   \n",
      "1522  2018-12-16                 24.1                0.0 2018-12-16   \n",
      "1523  2018-12-17                 24.4                0.1 2018-12-17   \n",
      "1524  2018-12-18                 24.4               13.5 2018-12-18   \n",
      "1525  2018-12-19                 23.7               12.5 2018-12-19   \n",
      "\n",
      "     District Name  temp_mean_90d  precip_sum_90d  \n",
      "0         Ariyalur      26.300000             7.6  \n",
      "1         Ariyalur      25.650000            22.6  \n",
      "2         Ariyalur      25.133333            45.4  \n",
      "3         Ariyalur      24.725000            75.3  \n",
      "4         Ariyalur      24.500000           114.5  \n",
      "...            ...            ...             ...  \n",
      "1521         Theni      25.147778           602.0  \n",
      "1522         Theni      25.108889           602.0  \n",
      "1523         Theni      25.071111           601.9  \n",
      "1524         Theni      25.022222           615.4  \n",
      "1525         Theni      24.977778           627.9  \n",
      "\n",
      "[10682 rows x 7 columns]\n"
     ]
    }
   ],
   "source": [
    "print(df_weather_master)"
   ]
  },
  {
   "cell_type": "code",
   "execution_count": 43,
   "id": "7aedb2d2",
   "metadata": {},
   "outputs": [
    {
     "name": "stdout",
     "output_type": "stream",
     "text": [
      "    District Name      Market Name                  Commodity Variety Grade  \\\n",
      "0        Ariyalur  Ariyalur Market  Bajra(Pearl Millet/Cumbu)   Other   FAQ   \n",
      "1        Ariyalur  Ariyalur Market  Bajra(Pearl Millet/Cumbu)   Other   FAQ   \n",
      "2        Ariyalur  Ariyalur Market  Bajra(Pearl Millet/Cumbu)   Other   FAQ   \n",
      "3        Ariyalur  Ariyalur Market  Bajra(Pearl Millet/Cumbu)   Other   FAQ   \n",
      "4       Cuddalore        Cuddalore  Bajra(Pearl Millet/Cumbu)    Bold   FAQ   \n",
      "..            ...              ...                        ...     ...   ...   \n",
      "276    Coimbatore        Thiruppur  Bajra(Pearl Millet/Cumbu)   Other   FAQ   \n",
      "277    Coimbatore        Thiruppur  Bajra(Pearl Millet/Cumbu)   Other   FAQ   \n",
      "278    Coimbatore        Thiruppur  Bajra(Pearl Millet/Cumbu)   Other   FAQ   \n",
      "279    Coimbatore        Thiruppur  Bajra(Pearl Millet/Cumbu)   Other   FAQ   \n",
      "280     Cuddalore    Virudhachalam  Bajra(Pearl Millet/Cumbu)   Other   FAQ   \n",
      "\n",
      "     Min Price (Rs./Quintal)  Max Price (Rs./Quintal)  \\\n",
      "0                     1371.0                   1379.0   \n",
      "1                     1371.0                   1480.0   \n",
      "2                     1700.0                   1739.0   \n",
      "3                     1960.0                   2000.0   \n",
      "4                     1519.0                   1519.0   \n",
      "..                       ...                      ...   \n",
      "276                   1100.0                   1300.0   \n",
      "277                   1200.0                   1400.0   \n",
      "278                   1200.0                   1400.0   \n",
      "279                   1600.0                   1700.0   \n",
      "280                   1539.0                   3504.0   \n",
      "\n",
      "     Modal Price (Rs./Quintal) Price Date  Day Of Week        time  \\\n",
      "0                       1372.0 2017-11-22            2  2017-11-22   \n",
      "1                       1480.0 2016-01-18            0  2016-01-18   \n",
      "2                       1728.0 2017-08-29            1  2017-08-29   \n",
      "3                       2000.0 2015-03-10            1  2015-03-10   \n",
      "4                       1519.0 2016-08-29            0  2016-08-29   \n",
      "..                         ...        ...          ...         ...   \n",
      "276                     1200.0 2016-02-24            2  2016-02-24   \n",
      "277                     1300.0 2015-04-08            2  2015-04-08   \n",
      "278                     1300.0 2016-07-13            2  2016-07-13   \n",
      "279                     1650.0 2018-08-16            3  2018-08-16   \n",
      "280                     1670.0 2016-10-06            3  2016-10-06   \n",
      "\n",
      "     temperature_2m_mean  precipitation_sum  temp_mean_90d  precip_sum_90d  \n",
      "0                   25.9                1.4      27.565556           648.4  \n",
      "1                   24.6                0.0      24.781111           746.2  \n",
      "2                   28.5                0.5      30.555556           269.4  \n",
      "3                   26.9                0.0      24.687778           135.1  \n",
      "4                   29.6                8.8      29.598889           220.4  \n",
      "..                   ...                ...            ...             ...  \n",
      "276                 26.6                0.0      23.778889            91.8  \n",
      "277                 28.9                0.0      25.207778            45.0  \n",
      "278                 24.8                0.0      27.001111           171.2  \n",
      "279                 22.2               30.3      24.977778           339.2  \n",
      "280                 29.7                0.0      29.514444           214.1  \n",
      "\n",
      "[281 rows x 15 columns]\n"
     ]
    }
   ],
   "source": [
    "df_merged = pd.merge(df_agri, df_weather_master, on=['District Name', 'Price Date'], how='left')\n",
    "print(df_merged)"
   ]
  },
  {
   "cell_type": "code",
   "execution_count": 53,
   "id": "e9ab6dd7",
   "metadata": {},
   "outputs": [],
   "source": [
    "def get_correct_lookback_value(row, feature_prefix, lookback_dict):\n",
    "    commodity = row['Commodity']\n",
    "    # ** NEW: Check if the commodity exists in our lookback dictionary **\n",
    "    if commodity in lookback_dict:\n",
    "        lookback_days = lookback_dict[commodity]\n",
    "        column_name = f\"{feature_prefix}_{lookback_days}d\"\n",
    "        return row[column_name]\n",
    "    return None\n",
    "\n",
    "df_merged['lookback_temp_mean'] = df_merged.apply(get_correct_lookback_value, feature_prefix='temp_mean', lookback_dict=lookbacks, axis=1)\n",
    "df_merged['lookback_precip_sum'] = df_merged.apply(get_correct_lookback_value, feature_prefix='precip_sum', lookback_dict=lookbacks, axis=1)\n"
   ]
  },
  {
   "cell_type": "code",
   "execution_count": 45,
   "id": "17a63cfc",
   "metadata": {},
   "outputs": [
    {
     "name": "stdout",
     "output_type": "stream",
     "text": [
      "  District Name      Market Name                  Commodity Variety Grade  \\\n",
      "0      Ariyalur  Ariyalur Market  Bajra(Pearl Millet/Cumbu)   Other   FAQ   \n",
      "1      Ariyalur  Ariyalur Market  Bajra(Pearl Millet/Cumbu)   Other   FAQ   \n",
      "2      Ariyalur  Ariyalur Market  Bajra(Pearl Millet/Cumbu)   Other   FAQ   \n",
      "3      Ariyalur  Ariyalur Market  Bajra(Pearl Millet/Cumbu)   Other   FAQ   \n",
      "4     Cuddalore        Cuddalore  Bajra(Pearl Millet/Cumbu)    Bold   FAQ   \n",
      "\n",
      "   Min Price (Rs./Quintal)  Max Price (Rs./Quintal)  \\\n",
      "0                   1371.0                   1379.0   \n",
      "1                   1371.0                   1480.0   \n",
      "2                   1700.0                   1739.0   \n",
      "3                   1960.0                   2000.0   \n",
      "4                   1519.0                   1519.0   \n",
      "\n",
      "   Modal Price (Rs./Quintal) Price Date  Day Of Week        time  \\\n",
      "0                     1372.0 2017-11-22            2  2017-11-22   \n",
      "1                     1480.0 2016-01-18            0  2016-01-18   \n",
      "2                     1728.0 2017-08-29            1  2017-08-29   \n",
      "3                     2000.0 2015-03-10            1  2015-03-10   \n",
      "4                     1519.0 2016-08-29            0  2016-08-29   \n",
      "\n",
      "   temperature_2m_mean  precipitation_sum  temp_mean_90d  precip_sum_90d  \\\n",
      "0                 25.9                1.4      27.565556           648.4   \n",
      "1                 24.6                0.0      24.781111           746.2   \n",
      "2                 28.5                0.5      30.555556           269.4   \n",
      "3                 26.9                0.0      24.687778           135.1   \n",
      "4                 29.6                8.8      29.598889           220.4   \n",
      "\n",
      "   lookback_temp_mean  lookback_precip_sum  \n",
      "0           27.565556                648.4  \n",
      "1           24.781111                746.2  \n",
      "2           30.555556                269.4  \n",
      "3           24.687778                135.1  \n",
      "4           29.598889                220.4  \n"
     ]
    }
   ],
   "source": [
    "print(df_merged.head())"
   ]
  },
  {
   "cell_type": "code",
   "execution_count": 59,
   "id": "8f0d1d98",
   "metadata": {},
   "outputs": [],
   "source": [
    "final_columns = [\n",
    "    'District Name', 'Market Name', 'Commodity', 'Variety', 'Grade', 'Min Price (Rs./Quintal)', \n",
    "    'Max Price (Rs./Quintal)', 'Modal Price (Rs./Quintal)', 'Price Date', 'Day Of Week',\n",
    "    'lookback_temp_mean', 'lookback_precip_sum'\n",
    "]\n",
    "\n",
    "df_final = df_merged[[col for col in final_columns if col in df_merged.columns]].copy()\n"
   ]
  },
  {
   "cell_type": "code",
   "execution_count": 61,
   "id": "e88019ff",
   "metadata": {},
   "outputs": [],
   "source": [
    "df_final.to_csv('./Weather_Merged_CSVs/Bajra-2015-2019.csv', index=False)"
   ]
  }
 ],
 "metadata": {
  "kernelspec": {
   "display_name": ".venv",
   "language": "python",
   "name": "python3"
  },
  "language_info": {
   "codemirror_mode": {
    "name": "ipython",
    "version": 3
   },
   "file_extension": ".py",
   "mimetype": "text/x-python",
   "name": "python",
   "nbconvert_exporter": "python",
   "pygments_lexer": "ipython3",
   "version": "3.12.6"
  }
 },
 "nbformat": 4,
 "nbformat_minor": 5
}
