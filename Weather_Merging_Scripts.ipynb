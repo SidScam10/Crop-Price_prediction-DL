{
 "cells": [
  {
   "cell_type": "code",
   "id": "2c548074",
   "metadata": {
    "ExecuteTime": {
     "end_time": "2025-08-03T08:41:24.282411Z",
     "start_time": "2025-08-03T08:41:24.220425Z"
    }
   },
   "source": [
    "import pandas as pd\n",
    "import requests\n",
    "df_agri=pd.read_csv(\"./Cleaned CSVs/Banana.csv\")\n",
    "df_agri['Price Date'] = pd.to_datetime(df_agri['Price Date'])\n",
    "df_agri.head()\n"
   ],
   "outputs": [
    {
     "data": {
      "text/plain": [
       "  District Name                  Market Name Commodity Variety  Grade  \\\n",
       "0    Dharmapuri  AJattihalli(Farmers Market)    Banana  Besrai  Local   \n",
       "1    Dharmapuri  AJattihalli(Farmers Market)    Banana  Besrai  Local   \n",
       "2    Dharmapuri  AJattihalli(Farmers Market)    Banana  Besrai  Local   \n",
       "3    Dharmapuri  AJattihalli(Farmers Market)    Banana  Besrai  Local   \n",
       "4    Dharmapuri  AJattihalli(Farmers Market)    Banana  Besrai  Local   \n",
       "\n",
       "   Min Price (Rs./Quintal)  Max Price (Rs./Quintal)  \\\n",
       "0                   4000.0                   4500.0   \n",
       "1                   4000.0                   4500.0   \n",
       "2                   4500.0                   5000.0   \n",
       "3                   4500.0                   5000.0   \n",
       "4                   4500.0                   5000.0   \n",
       "\n",
       "   Modal Price (Rs./Quintal) Price Date  Day Of Week  \n",
       "0                     4500.0 2025-06-18            2  \n",
       "1                     4500.0 2024-12-26            3  \n",
       "2                     5000.0 2025-06-01            6  \n",
       "3                     5000.0 2025-06-17            1  \n",
       "4                     5000.0 2024-11-18            0  "
      ],
      "text/html": [
       "<div>\n",
       "<style scoped>\n",
       "    .dataframe tbody tr th:only-of-type {\n",
       "        vertical-align: middle;\n",
       "    }\n",
       "\n",
       "    .dataframe tbody tr th {\n",
       "        vertical-align: top;\n",
       "    }\n",
       "\n",
       "    .dataframe thead th {\n",
       "        text-align: right;\n",
       "    }\n",
       "</style>\n",
       "<table border=\"1\" class=\"dataframe\">\n",
       "  <thead>\n",
       "    <tr style=\"text-align: right;\">\n",
       "      <th></th>\n",
       "      <th>District Name</th>\n",
       "      <th>Market Name</th>\n",
       "      <th>Commodity</th>\n",
       "      <th>Variety</th>\n",
       "      <th>Grade</th>\n",
       "      <th>Min Price (Rs./Quintal)</th>\n",
       "      <th>Max Price (Rs./Quintal)</th>\n",
       "      <th>Modal Price (Rs./Quintal)</th>\n",
       "      <th>Price Date</th>\n",
       "      <th>Day Of Week</th>\n",
       "    </tr>\n",
       "  </thead>\n",
       "  <tbody>\n",
       "    <tr>\n",
       "      <th>0</th>\n",
       "      <td>Dharmapuri</td>\n",
       "      <td>AJattihalli(Farmers Market)</td>\n",
       "      <td>Banana</td>\n",
       "      <td>Besrai</td>\n",
       "      <td>Local</td>\n",
       "      <td>4000.0</td>\n",
       "      <td>4500.0</td>\n",
       "      <td>4500.0</td>\n",
       "      <td>2025-06-18</td>\n",
       "      <td>2</td>\n",
       "    </tr>\n",
       "    <tr>\n",
       "      <th>1</th>\n",
       "      <td>Dharmapuri</td>\n",
       "      <td>AJattihalli(Farmers Market)</td>\n",
       "      <td>Banana</td>\n",
       "      <td>Besrai</td>\n",
       "      <td>Local</td>\n",
       "      <td>4000.0</td>\n",
       "      <td>4500.0</td>\n",
       "      <td>4500.0</td>\n",
       "      <td>2024-12-26</td>\n",
       "      <td>3</td>\n",
       "    </tr>\n",
       "    <tr>\n",
       "      <th>2</th>\n",
       "      <td>Dharmapuri</td>\n",
       "      <td>AJattihalli(Farmers Market)</td>\n",
       "      <td>Banana</td>\n",
       "      <td>Besrai</td>\n",
       "      <td>Local</td>\n",
       "      <td>4500.0</td>\n",
       "      <td>5000.0</td>\n",
       "      <td>5000.0</td>\n",
       "      <td>2025-06-01</td>\n",
       "      <td>6</td>\n",
       "    </tr>\n",
       "    <tr>\n",
       "      <th>3</th>\n",
       "      <td>Dharmapuri</td>\n",
       "      <td>AJattihalli(Farmers Market)</td>\n",
       "      <td>Banana</td>\n",
       "      <td>Besrai</td>\n",
       "      <td>Local</td>\n",
       "      <td>4500.0</td>\n",
       "      <td>5000.0</td>\n",
       "      <td>5000.0</td>\n",
       "      <td>2025-06-17</td>\n",
       "      <td>1</td>\n",
       "    </tr>\n",
       "    <tr>\n",
       "      <th>4</th>\n",
       "      <td>Dharmapuri</td>\n",
       "      <td>AJattihalli(Farmers Market)</td>\n",
       "      <td>Banana</td>\n",
       "      <td>Besrai</td>\n",
       "      <td>Local</td>\n",
       "      <td>4500.0</td>\n",
       "      <td>5000.0</td>\n",
       "      <td>5000.0</td>\n",
       "      <td>2024-11-18</td>\n",
       "      <td>0</td>\n",
       "    </tr>\n",
       "  </tbody>\n",
       "</table>\n",
       "</div>"
      ]
     },
     "execution_count": 112,
     "metadata": {},
     "output_type": "execute_result"
    }
   ],
   "execution_count": 112
  },
  {
   "cell_type": "code",
   "id": "a57438da",
   "metadata": {
    "ExecuteTime": {
     "end_time": "2025-08-03T08:41:24.332953Z",
     "start_time": "2025-08-03T08:41:24.330221Z"
    }
   },
   "source": [
    "CROP_LOOKBACK_DAYS = {\n",
    "    'Bajra(Pearl Millet/Cumbu)': 90,\n",
    "    'Maize': 120,\n",
    "    'Paddy': 135,\n",
    "    'Banana' : 360,\n",
    "    'Banana - Green': 180,\n",
    "    'Black Gram Dal (Urd Dal)': 90\n",
    "}"
   ],
   "outputs": [],
   "execution_count": 113
  },
  {
   "cell_type": "code",
   "id": "8b25a447",
   "metadata": {
    "ExecuteTime": {
     "end_time": "2025-08-03T08:41:24.415737Z",
     "start_time": "2025-08-03T08:41:24.411073Z"
    }
   },
   "source": [
    "DISTRICT_COORDINATES = {\n",
    "    \"Thiruvannamalai\": {\n",
    "        \"lat\": 9.539867,\n",
    "        \"lon\": 77.6197904\n",
    "    },\n",
    "    \"Kancheepuram\": {\n",
    "        \"lat\": 12.8796051,\n",
    "        \"lon\": 79.7042762\n",
    "    },\n",
    "    \"Namakkal\": {\n",
    "        \"lat\": 11.3033889,\n",
    "        \"lon\": 78.118604\n",
    "    },\n",
    "    \"Villupuram\": {\n",
    "        \"lat\": 11.9398285,\n",
    "        \"lon\": 79.4945645\n",
    "    },\n",
    "    \"Ariyalur\": {\n",
    "        \"lat\": 11.1530559,\n",
    "        \"lon\": 79.2585797\n",
    "    },\n",
    "    \"Cuddalore\": {\n",
    "        \"lat\": 11.520207,\n",
    "        \"lon\": 79.3396356\n",
    "    },\n",
    "    \"Coimbatore\": {\n",
    "        \"lat\": 11.0018115,\n",
    "        \"lon\": 76.9628425\n",
    "    },\n",
    "    \"Salem\": {\n",
    "        \"lat\": 11.6469616,\n",
    "        \"lon\": 78.2106958\n",
    "    },\n",
    "    \"Vellore\": {\n",
    "        \"lat\": 12.9021849,\n",
    "        \"lon\": 79.061104\n",
    "    },\n",
    "    \"Erode\": {\n",
    "        \"lat\": 11.4905281,\n",
    "        \"lon\": 77.3505274\n",
    "    },\n",
    "    \"Theni\": {\n",
    "        \"lat\": 9.8692558,\n",
    "        \"lon\": 77.4222974\n",
    "    },\n",
    "    \"Thiruchirappalli\": {\n",
    "        \"lat\": 10.7905,\n",
    "        \"lon\": 78.7047\n",
    "    },\n",
    "    \"Thiruvellore\": {\n",
    "        \"lat\": 13.1227,\n",
    "        \"lon\": 79.9118\n",
    "    },\n",
    "    \"Nagercoil (Kannyiakumari)\": {\n",
    "        \"lat\": 8.1833,\n",
    "        \"lon\": 77.4119\n",
    "    },\n",
    "    \"Thirunelveli\": {\n",
    "        \"lat\": 8.7150,\n",
    "        \"lon\": 77.7656\n",
    "    },\n",
    "    \"Virudhunagar\": {\n",
    "        \"lat\": 9.4926289,\n",
    "        \"lon\": 77.8631831\n",
    "    },\n",
    "    \"Dindigul\": {\n",
    "        \"lat\": 10.4256896,\n",
    "        \"lon\": 77.815664\n",
    "    },\n",
    "    \"Ramanathapuram\": {\n",
    "        \"lat\": 9.5205576,\n",
    "        \"lon\": 78.5184635\n",
    "    },\n",
    "    \"Tuticorin\": {\n",
    "        \"lat\": 8.8052602,\n",
    "        \"lon\": 78.1452745\n",
    "    },\n",
    "    \"Madurai\": {\n",
    "        \"lat\": 9.9261153,\n",
    "        \"lon\": 78.1140983\n",
    "    },\n",
    "    \"Karur\": {\n",
    "        \"lat\": 10.8217671,\n",
    "        \"lon\": 78.3828654\n",
    "    },\n",
    "    \"Dharmapuri\": {\n",
    "        \"lat\": 12.145613,\n",
    "        \"lon\": 78.1132217\n",
    "    },\n",
    "    \"Pudukkottai\": {\n",
    "        \"lat\": 10.2903072,\n",
    "        \"lon\": 78.8173617\n",
    "    },\n",
    "    \"Ranipet\": {\n",
    "        \"lat\": 12.9186243,\n",
    "        \"lon\": 79.4081921\n",
    "    },\n",
    "    \"Krishnagiri\": {\n",
    "        \"lat\": 12.5152075,\n",
    "        \"lon\": 78.0093769\n",
    "    },\n",
    "    \"The Nilgiris\": {\n",
    "        \"lat\": 11.4,\n",
    "        \"lon\": 76.7\n",
    "    },\n",
    "    \"Sivaganga\": {\n",
    "        \"lat\": 9.8486881,\n",
    "        \"lon\": 78.4870461\n",
    "    },\n",
    "    \"Chengalpattu\": {\n",
    "        \"lat\": 12.6840886,\n",
    "        \"lon\": 79.9836371\n",
    "    },\n",
    "    \"Thirupur\": {\n",
    "        \"lat\": 12.921745,\n",
    "        \"lon\": 80.1375926\n",
    "    },\n",
    "    \"Kallakuruchi\": {\n",
    "        \"lat\": 11.4248929,\n",
    "        \"lon\": 78.2652132\n",
    "    },\n",
    "    \"Thanjavur\": {\n",
    "        \"lat\": 10.659037,\n",
    "        \"lon\": 79.2014278\n",
    "    },\n",
    "    \"Nagapattinam\": {\n",
    "        \"lat\": 10.6026202,\n",
    "        \"lon\": 79.7619348\n",
    "    },\n",
    "    \"Thiruvarur\": {\n",
    "        \"lat\": 10.6878621,\n",
    "        \"lon\": 79.4979437\n",
    "    },\n",
    "    \"Thirupathur\": {\n",
    "        \"lat\": 10.59635,\n",
    "        \"lon\": 79.56857\n",
    "    },\n",
    "    \"Perambalur\": {\n",
    "        \"lat\": 11.2902641,\n",
    "        \"lon\": 78.9300404\n",
    "    },\n",
    "    \"Tenkasi\": {\n",
    "        \"lat\": 9.0933908,\n",
    "        \"lon\": 77.4758373\n",
    "    }\n",
    "}"
   ],
   "outputs": [],
   "execution_count": 114
  },
  {
   "cell_type": "code",
   "id": "78a8b5dc",
   "metadata": {
    "ExecuteTime": {
     "end_time": "2025-08-03T08:41:24.572966Z",
     "start_time": "2025-08-03T08:41:24.482297Z"
    }
   },
   "source": [
    "districts = {k: v for k, v in DISTRICT_COORDINATES.items() if k in df_agri['District Name'].unique()}\n",
    "lookbacks = {k: v for k, v in CROP_LOOKBACK_DAYS.items() if k in df_agri['Commodity'].unique()}\n",
    "\n",
    "print(f\"Districts being processed for this file: {list(districts.keys())}\")\n",
    "print(f\"Lookbacks being processed for this file: {lookbacks}\")"
   ],
   "outputs": [
    {
     "name": "stdout",
     "output_type": "stream",
     "text": [
      "Districts being processed for this file: ['Thiruvannamalai', 'Kancheepuram', 'Namakkal', 'Villupuram', 'Ariyalur', 'Cuddalore', 'Coimbatore', 'Salem', 'Vellore', 'Erode', 'Theni', 'Thiruchirappalli', 'Thiruvellore', 'Nagercoil (Kannyiakumari)', 'Thirunelveli', 'Virudhunagar', 'Dindigul', 'Ramanathapuram', 'Tuticorin', 'Madurai', 'Karur', 'Dharmapuri', 'Pudukkottai', 'Ranipet', 'Krishnagiri', 'The Nilgiris', 'Sivaganga', 'Chengalpattu', 'Thirupur', 'Kallakuruchi', 'Thanjavur', 'Nagapattinam', 'Thiruvarur', 'Thirupathur', 'Perambalur', 'Tenkasi']\n",
      "Lookbacks being processed for this file: {'Banana': 360}\n"
     ]
    }
   ],
   "execution_count": 115
  },
  {
   "cell_type": "code",
   "id": "f6029d2e",
   "metadata": {
    "ExecuteTime": {
     "end_time": "2025-08-03T08:41:24.601282Z",
     "start_time": "2025-08-03T08:41:24.597103Z"
    }
   },
   "source": [
    "all_weather_data = []\n",
    "unique_lookbacks = set(lookbacks.values())\n",
    "start_date = df_agri['Price Date'].min() - pd.Timedelta(days=max(unique_lookbacks, default=0))\n",
    "end_date = df_agri['Price Date'].max()\n",
    "\n",
    "print(unique_lookbacks)"
   ],
   "outputs": [
    {
     "name": "stdout",
     "output_type": "stream",
     "text": [
      "{360}\n"
     ]
    }
   ],
   "execution_count": 116
  },
  {
   "cell_type": "code",
   "id": "53542112",
   "metadata": {
    "ExecuteTime": {
     "end_time": "2025-08-03T08:42:04.649525Z",
     "start_time": "2025-08-03T08:41:24.636195Z"
    }
   },
   "source": [
    "for district, coords in districts.items():\n",
    "    print(f\"Fetching weather data for {df_agri['Commodity'].unique()} in {district}...\")\n",
    "    \n",
    "    weather_url = f\"https://archive-api.open-meteo.com/v1/archive?latitude={coords['lat']}&longitude={coords['lon']}&start_date={start_date.strftime('%Y-%m-%d')}&end_date={end_date.strftime('%Y-%m-%d')}&daily=temperature_2m_mean,precipitation_sum\"\n",
    "    response = requests.get(weather_url)\n",
    "    \n",
    "    if response.status_code == 200:\n",
    "        df_weather = pd.DataFrame(response.json()['daily'])\n",
    "        df_weather['Price Date'] = pd.to_datetime(df_weather['time'])\n",
    "        df_weather['District Name'] = district\n",
    "\n",
    "        for days in unique_lookbacks:\n",
    "            df_weather[f'temp_mean_{days}d'] = df_weather['temperature_2m_mean'].rolling(window=days, min_periods=1).mean()\n",
    "            df_weather[f'precip_sum_{days}d'] = df_weather['precipitation_sum'].rolling(window=days, min_periods=1).sum()\n",
    "        \n",
    "        all_weather_data.append(df_weather)\n",
    "\n",
    "df_weather_master = pd.concat(all_weather_data)"
   ],
   "outputs": [
    {
     "name": "stdout",
     "output_type": "stream",
     "text": [
      "Fetching weather data for ['Banana'] in Thiruvannamalai...\n",
      "Fetching weather data for ['Banana'] in Kancheepuram...\n",
      "Fetching weather data for ['Banana'] in Namakkal...\n",
      "Fetching weather data for ['Banana'] in Villupuram...\n",
      "Fetching weather data for ['Banana'] in Ariyalur...\n",
      "Fetching weather data for ['Banana'] in Cuddalore...\n",
      "Fetching weather data for ['Banana'] in Coimbatore...\n",
      "Fetching weather data for ['Banana'] in Salem...\n",
      "Fetching weather data for ['Banana'] in Vellore...\n",
      "Fetching weather data for ['Banana'] in Erode...\n",
      "Fetching weather data for ['Banana'] in Theni...\n",
      "Fetching weather data for ['Banana'] in Thiruchirappalli...\n",
      "Fetching weather data for ['Banana'] in Thiruvellore...\n",
      "Fetching weather data for ['Banana'] in Nagercoil (Kannyiakumari)...\n",
      "Fetching weather data for ['Banana'] in Thirunelveli...\n",
      "Fetching weather data for ['Banana'] in Virudhunagar...\n",
      "Fetching weather data for ['Banana'] in Dindigul...\n",
      "Fetching weather data for ['Banana'] in Ramanathapuram...\n",
      "Fetching weather data for ['Banana'] in Tuticorin...\n",
      "Fetching weather data for ['Banana'] in Madurai...\n",
      "Fetching weather data for ['Banana'] in Karur...\n",
      "Fetching weather data for ['Banana'] in Dharmapuri...\n",
      "Fetching weather data for ['Banana'] in Pudukkottai...\n",
      "Fetching weather data for ['Banana'] in Ranipet...\n",
      "Fetching weather data for ['Banana'] in Krishnagiri...\n",
      "Fetching weather data for ['Banana'] in The Nilgiris...\n",
      "Fetching weather data for ['Banana'] in Sivaganga...\n",
      "Fetching weather data for ['Banana'] in Chengalpattu...\n",
      "Fetching weather data for ['Banana'] in Thirupur...\n",
      "Fetching weather data for ['Banana'] in Kallakuruchi...\n",
      "Fetching weather data for ['Banana'] in Thanjavur...\n",
      "Fetching weather data for ['Banana'] in Nagapattinam...\n",
      "Fetching weather data for ['Banana'] in Thiruvarur...\n",
      "Fetching weather data for ['Banana'] in Thirupathur...\n",
      "Fetching weather data for ['Banana'] in Perambalur...\n",
      "Fetching weather data for ['Banana'] in Tenkasi...\n"
     ]
    },
    {
     "ename": "ValueError",
     "evalue": "No objects to concatenate",
     "output_type": "error",
     "traceback": [
      "\u001B[31m---------------------------------------------------------------------------\u001B[39m",
      "\u001B[31mValueError\u001B[39m                                Traceback (most recent call last)",
      "\u001B[36mCell\u001B[39m\u001B[36m \u001B[39m\u001B[32mIn[117]\u001B[39m\u001B[32m, line 18\u001B[39m\n\u001B[32m     14\u001B[39m             df_weather[\u001B[33mf\u001B[39m\u001B[33m'\u001B[39m\u001B[33mprecip_sum_\u001B[39m\u001B[38;5;132;01m{\u001B[39;00mdays\u001B[38;5;132;01m}\u001B[39;00m\u001B[33md\u001B[39m\u001B[33m'\u001B[39m] = df_weather[\u001B[33m'\u001B[39m\u001B[33mprecipitation_sum\u001B[39m\u001B[33m'\u001B[39m].rolling(window=days, min_periods=\u001B[32m1\u001B[39m).sum()\n\u001B[32m     16\u001B[39m         all_weather_data.append(df_weather)\n\u001B[32m---> \u001B[39m\u001B[32m18\u001B[39m df_weather_master = \u001B[43mpd\u001B[49m\u001B[43m.\u001B[49m\u001B[43mconcat\u001B[49m\u001B[43m(\u001B[49m\u001B[43mall_weather_data\u001B[49m\u001B[43m)\u001B[49m\n",
      "\u001B[36mFile \u001B[39m\u001B[32m~\\PycharmProjects\\Crop-Price-Prediction-DL\\.venv\\Lib\\site-packages\\pandas\\core\\reshape\\concat.py:382\u001B[39m, in \u001B[36mconcat\u001B[39m\u001B[34m(objs, axis, join, ignore_index, keys, levels, names, verify_integrity, sort, copy)\u001B[39m\n\u001B[32m    379\u001B[39m \u001B[38;5;28;01melif\u001B[39;00m copy \u001B[38;5;129;01mand\u001B[39;00m using_copy_on_write():\n\u001B[32m    380\u001B[39m     copy = \u001B[38;5;28;01mFalse\u001B[39;00m\n\u001B[32m--> \u001B[39m\u001B[32m382\u001B[39m op = \u001B[43m_Concatenator\u001B[49m\u001B[43m(\u001B[49m\n\u001B[32m    383\u001B[39m \u001B[43m    \u001B[49m\u001B[43mobjs\u001B[49m\u001B[43m,\u001B[49m\n\u001B[32m    384\u001B[39m \u001B[43m    \u001B[49m\u001B[43maxis\u001B[49m\u001B[43m=\u001B[49m\u001B[43maxis\u001B[49m\u001B[43m,\u001B[49m\n\u001B[32m    385\u001B[39m \u001B[43m    \u001B[49m\u001B[43mignore_index\u001B[49m\u001B[43m=\u001B[49m\u001B[43mignore_index\u001B[49m\u001B[43m,\u001B[49m\n\u001B[32m    386\u001B[39m \u001B[43m    \u001B[49m\u001B[43mjoin\u001B[49m\u001B[43m=\u001B[49m\u001B[43mjoin\u001B[49m\u001B[43m,\u001B[49m\n\u001B[32m    387\u001B[39m \u001B[43m    \u001B[49m\u001B[43mkeys\u001B[49m\u001B[43m=\u001B[49m\u001B[43mkeys\u001B[49m\u001B[43m,\u001B[49m\n\u001B[32m    388\u001B[39m \u001B[43m    \u001B[49m\u001B[43mlevels\u001B[49m\u001B[43m=\u001B[49m\u001B[43mlevels\u001B[49m\u001B[43m,\u001B[49m\n\u001B[32m    389\u001B[39m \u001B[43m    \u001B[49m\u001B[43mnames\u001B[49m\u001B[43m=\u001B[49m\u001B[43mnames\u001B[49m\u001B[43m,\u001B[49m\n\u001B[32m    390\u001B[39m \u001B[43m    \u001B[49m\u001B[43mverify_integrity\u001B[49m\u001B[43m=\u001B[49m\u001B[43mverify_integrity\u001B[49m\u001B[43m,\u001B[49m\n\u001B[32m    391\u001B[39m \u001B[43m    \u001B[49m\u001B[43mcopy\u001B[49m\u001B[43m=\u001B[49m\u001B[43mcopy\u001B[49m\u001B[43m,\u001B[49m\n\u001B[32m    392\u001B[39m \u001B[43m    \u001B[49m\u001B[43msort\u001B[49m\u001B[43m=\u001B[49m\u001B[43msort\u001B[49m\u001B[43m,\u001B[49m\n\u001B[32m    393\u001B[39m \u001B[43m\u001B[49m\u001B[43m)\u001B[49m\n\u001B[32m    395\u001B[39m \u001B[38;5;28;01mreturn\u001B[39;00m op.get_result()\n",
      "\u001B[36mFile \u001B[39m\u001B[32m~\\PycharmProjects\\Crop-Price-Prediction-DL\\.venv\\Lib\\site-packages\\pandas\\core\\reshape\\concat.py:445\u001B[39m, in \u001B[36m_Concatenator.__init__\u001B[39m\u001B[34m(self, objs, axis, join, keys, levels, names, ignore_index, verify_integrity, copy, sort)\u001B[39m\n\u001B[32m    442\u001B[39m \u001B[38;5;28mself\u001B[39m.verify_integrity = verify_integrity\n\u001B[32m    443\u001B[39m \u001B[38;5;28mself\u001B[39m.copy = copy\n\u001B[32m--> \u001B[39m\u001B[32m445\u001B[39m objs, keys = \u001B[38;5;28;43mself\u001B[39;49m\u001B[43m.\u001B[49m\u001B[43m_clean_keys_and_objs\u001B[49m\u001B[43m(\u001B[49m\u001B[43mobjs\u001B[49m\u001B[43m,\u001B[49m\u001B[43m \u001B[49m\u001B[43mkeys\u001B[49m\u001B[43m)\u001B[49m\n\u001B[32m    447\u001B[39m \u001B[38;5;66;03m# figure out what our result ndim is going to be\u001B[39;00m\n\u001B[32m    448\u001B[39m ndims = \u001B[38;5;28mself\u001B[39m._get_ndims(objs)\n",
      "\u001B[36mFile \u001B[39m\u001B[32m~\\PycharmProjects\\Crop-Price-Prediction-DL\\.venv\\Lib\\site-packages\\pandas\\core\\reshape\\concat.py:507\u001B[39m, in \u001B[36m_Concatenator._clean_keys_and_objs\u001B[39m\u001B[34m(self, objs, keys)\u001B[39m\n\u001B[32m    504\u001B[39m     objs_list = \u001B[38;5;28mlist\u001B[39m(objs)\n\u001B[32m    506\u001B[39m \u001B[38;5;28;01mif\u001B[39;00m \u001B[38;5;28mlen\u001B[39m(objs_list) == \u001B[32m0\u001B[39m:\n\u001B[32m--> \u001B[39m\u001B[32m507\u001B[39m     \u001B[38;5;28;01mraise\u001B[39;00m \u001B[38;5;167;01mValueError\u001B[39;00m(\u001B[33m\"\u001B[39m\u001B[33mNo objects to concatenate\u001B[39m\u001B[33m\"\u001B[39m)\n\u001B[32m    509\u001B[39m \u001B[38;5;28;01mif\u001B[39;00m keys \u001B[38;5;129;01mis\u001B[39;00m \u001B[38;5;28;01mNone\u001B[39;00m:\n\u001B[32m    510\u001B[39m     objs_list = \u001B[38;5;28mlist\u001B[39m(com.not_none(*objs_list))\n",
      "\u001B[31mValueError\u001B[39m: No objects to concatenate"
     ]
    }
   ],
   "execution_count": 117
  },
  {
   "cell_type": "code",
   "id": "de834a2d",
   "metadata": {
    "ExecuteTime": {
     "end_time": "2025-08-03T08:42:04.681660200Z",
     "start_time": "2025-08-03T08:37:51.747558Z"
    }
   },
   "source": [
    "print(df_weather_master)"
   ],
   "outputs": [
    {
     "name": "stdout",
     "output_type": "stream",
     "text": [
      "            time  temperature_2m_mean  precipitation_sum Price Date  \\\n",
      "0     2021-10-05                 26.6              103.0 2021-10-05   \n",
      "1     2021-10-06                 25.8                4.3 2021-10-06   \n",
      "2     2021-10-07                 27.2                0.1 2021-10-07   \n",
      "3     2021-10-08                 27.3                1.6 2021-10-08   \n",
      "4     2021-10-09                 26.8                0.3 2021-10-09   \n",
      "...          ...                  ...                ...        ...   \n",
      "1381  2025-07-17                 30.1                0.0 2025-07-17   \n",
      "1382  2025-07-18                 29.8                0.0 2025-07-18   \n",
      "1383  2025-07-19                 29.1                0.1 2025-07-19   \n",
      "1384  2025-07-20                 28.8                0.5 2025-07-20   \n",
      "1385  2025-07-21                 27.8                0.3 2025-07-21   \n",
      "\n",
      "        District Name  temp_mean_90d  precip_sum_90d  \n",
      "0     Thiruvannamalai      26.600000           103.0  \n",
      "1     Thiruvannamalai      26.200000           107.3  \n",
      "2     Thiruvannamalai      26.533333           107.4  \n",
      "3     Thiruvannamalai      26.725000           109.0  \n",
      "4     Thiruvannamalai      26.740000           109.3  \n",
      "...               ...            ...             ...  \n",
      "1381         Dindigul      29.831111           113.9  \n",
      "1382         Dindigul      29.821111           110.7  \n",
      "1383         Dindigul      29.790000           110.8  \n",
      "1384         Dindigul      29.755556           111.3  \n",
      "1385         Dindigul      29.716667           111.6  \n",
      "\n",
      "[18018 rows x 7 columns]\n"
     ]
    }
   ],
   "execution_count": 100
  },
  {
   "cell_type": "code",
   "id": "7aedb2d2",
   "metadata": {
    "ExecuteTime": {
     "end_time": "2025-08-03T08:42:04.681660200Z",
     "start_time": "2025-08-03T08:37:51.785498Z"
    }
   },
   "source": [
    "df_merged = pd.merge(df_agri, df_weather_master, on=['District Name', 'Price Date'], how='left')\n",
    "print(df_merged)"
   ],
   "outputs": [
    {
     "name": "stdout",
     "output_type": "stream",
     "text": [
      "     District Name      Market Name                  Commodity Variety  Grade  \\\n",
      "0         Ariyalur        Andimadom  Bajra(Pearl Millet/Cumbu)   Other  Local   \n",
      "1         Ariyalur  Ariyalur Market  Bajra(Pearl Millet/Cumbu)   Other    FAQ   \n",
      "2         Ariyalur  Ariyalur Market  Bajra(Pearl Millet/Cumbu)   Other    FAQ   \n",
      "3         Ariyalur  Ariyalur Market  Bajra(Pearl Millet/Cumbu)   Other    FAQ   \n",
      "4        Cuddalore        Cuddalore  Bajra(Pearl Millet/Cumbu)    Bold    FAQ   \n",
      "...            ...              ...                        ...     ...    ...   \n",
      "1549    Villupuram       Villupuram  Bajra(Pearl Millet/Cumbu)   Other  Local   \n",
      "1550    Villupuram       Villupuram  Bajra(Pearl Millet/Cumbu)   Other  Local   \n",
      "1551     Cuddalore    Virudhachalam  Bajra(Pearl Millet/Cumbu)   Other  Local   \n",
      "1552     Cuddalore    Virudhachalam  Bajra(Pearl Millet/Cumbu)   Other  Local   \n",
      "1553     Cuddalore    Virudhachalam  Bajra(Pearl Millet/Cumbu)   Other  Local   \n",
      "\n",
      "      Min Price (Rs./Quintal)  Max Price (Rs./Quintal)  \\\n",
      "0                      2500.0                   2575.0   \n",
      "1                      2031.0                   2400.0   \n",
      "2                      2223.0                   4231.0   \n",
      "3                      2417.0                   2551.0   \n",
      "4                      2175.0                   2175.0   \n",
      "...                       ...                      ...   \n",
      "1549                   2881.0                   2929.0   \n",
      "1550                   2910.0                   3002.0   \n",
      "1551                   2159.0                   3249.0   \n",
      "1552                   2351.0                   2390.0   \n",
      "1553                   2531.0                   2601.0   \n",
      "\n",
      "      Modal Price (Rs./Quintal) Price Date  Day Of Week        time  \\\n",
      "0                        2550.0 2025-04-09            2  2025-04-09   \n",
      "1                        2350.0 2022-09-27            1  2022-09-27   \n",
      "2                        3750.0 2022-11-16            2  2022-11-16   \n",
      "3                        2450.0 2023-11-08            2  2023-11-08   \n",
      "4                        2175.0 2023-10-05            3  2023-10-05   \n",
      "...                         ...        ...          ...         ...   \n",
      "1549                     2909.0 2025-01-02            3  2025-01-02   \n",
      "1550                     2989.0 2024-12-26            3  2024-12-26   \n",
      "1551                     3136.0 2024-10-07            0  2024-10-07   \n",
      "1552                     2381.0 2025-05-30            4  2025-05-30   \n",
      "1553                     2561.0 2025-03-20            3  2025-03-20   \n",
      "\n",
      "      temperature_2m_mean  precipitation_sum  temp_mean_90d  precip_sum_90d  \n",
      "0                    29.2                1.1      26.623333           122.8  \n",
      "1                    28.6                1.3      28.816667           271.4  \n",
      "2                    25.1                0.0      27.024444           538.5  \n",
      "3                    25.6                3.0      28.646667           507.6  \n",
      "4                    31.1                0.2      30.287778           238.9  \n",
      "...                   ...                ...            ...             ...  \n",
      "1549                 24.5                0.0      26.063333          1137.4  \n",
      "1550                 25.4               10.3      26.336667          1147.3  \n",
      "1551                 27.4               10.7      29.711111           307.9  \n",
      "1552                 28.7                0.5      29.710000           149.0  \n",
      "1553                 29.6                0.1      25.842222           105.1  \n",
      "\n",
      "[1554 rows x 15 columns]\n"
     ]
    }
   ],
   "execution_count": 101
  },
  {
   "cell_type": "code",
   "id": "e9ab6dd7",
   "metadata": {
    "ExecuteTime": {
     "end_time": "2025-08-03T08:42:04.697859800Z",
     "start_time": "2025-08-03T08:37:51.826616Z"
    }
   },
   "source": [
    "def get_correct_lookback_value(row, feature_prefix, lookback_dict):\n",
    "    commodity = row['Commodity']\n",
    "    # ** NEW: Check if the commodity exists in our lookback dictionary **\n",
    "    if commodity in lookback_dict:\n",
    "        lookback_days = lookback_dict[commodity]\n",
    "        column_name = f\"{feature_prefix}_{lookback_days}d\"\n",
    "        return row[column_name]\n",
    "    return None\n",
    "\n",
    "df_merged['lookback_temp_mean'] = df_merged.apply(get_correct_lookback_value, feature_prefix='temp_mean', lookback_dict=lookbacks, axis=1)\n",
    "df_merged['lookback_precip_sum'] = df_merged.apply(get_correct_lookback_value, feature_prefix='precip_sum', lookback_dict=lookbacks, axis=1)\n"
   ],
   "outputs": [],
   "execution_count": 102
  },
  {
   "cell_type": "code",
   "id": "17a63cfc",
   "metadata": {
    "ExecuteTime": {
     "end_time": "2025-08-03T08:42:04.697859800Z",
     "start_time": "2025-08-03T08:37:51.875542Z"
    }
   },
   "source": [
    "print(df_merged.head())"
   ],
   "outputs": [
    {
     "name": "stdout",
     "output_type": "stream",
     "text": [
      "  District Name      Market Name                  Commodity Variety  Grade  \\\n",
      "0      Ariyalur        Andimadom  Bajra(Pearl Millet/Cumbu)   Other  Local   \n",
      "1      Ariyalur  Ariyalur Market  Bajra(Pearl Millet/Cumbu)   Other    FAQ   \n",
      "2      Ariyalur  Ariyalur Market  Bajra(Pearl Millet/Cumbu)   Other    FAQ   \n",
      "3      Ariyalur  Ariyalur Market  Bajra(Pearl Millet/Cumbu)   Other    FAQ   \n",
      "4     Cuddalore        Cuddalore  Bajra(Pearl Millet/Cumbu)    Bold    FAQ   \n",
      "\n",
      "   Min Price (Rs./Quintal)  Max Price (Rs./Quintal)  \\\n",
      "0                   2500.0                   2575.0   \n",
      "1                   2031.0                   2400.0   \n",
      "2                   2223.0                   4231.0   \n",
      "3                   2417.0                   2551.0   \n",
      "4                   2175.0                   2175.0   \n",
      "\n",
      "   Modal Price (Rs./Quintal) Price Date  Day Of Week        time  \\\n",
      "0                     2550.0 2025-04-09            2  2025-04-09   \n",
      "1                     2350.0 2022-09-27            1  2022-09-27   \n",
      "2                     3750.0 2022-11-16            2  2022-11-16   \n",
      "3                     2450.0 2023-11-08            2  2023-11-08   \n",
      "4                     2175.0 2023-10-05            3  2023-10-05   \n",
      "\n",
      "   temperature_2m_mean  precipitation_sum  temp_mean_90d  precip_sum_90d  \\\n",
      "0                 29.2                1.1      26.623333           122.8   \n",
      "1                 28.6                1.3      28.816667           271.4   \n",
      "2                 25.1                0.0      27.024444           538.5   \n",
      "3                 25.6                3.0      28.646667           507.6   \n",
      "4                 31.1                0.2      30.287778           238.9   \n",
      "\n",
      "   lookback_temp_mean  lookback_precip_sum  \n",
      "0           26.623333                122.8  \n",
      "1           28.816667                271.4  \n",
      "2           27.024444                538.5  \n",
      "3           28.646667                507.6  \n",
      "4           30.287778                238.9  \n"
     ]
    }
   ],
   "execution_count": 103
  },
  {
   "cell_type": "code",
   "id": "8f0d1d98",
   "metadata": {
    "ExecuteTime": {
     "end_time": "2025-08-03T08:42:04.697859800Z",
     "start_time": "2025-08-03T08:37:51.890218Z"
    }
   },
   "source": [
    "final_columns = [\n",
    "    'District Name', 'Market Name', 'Commodity', 'Variety', 'Grade', 'Min Price (Rs./Quintal)', \n",
    "    'Max Price (Rs./Quintal)', 'Modal Price (Rs./Quintal)', 'Price Date', 'Day Of Week',\n",
    "    'lookback_temp_mean', 'lookback_precip_sum'\n",
    "]\n",
    "\n",
    "df_final = df_merged[[col for col in final_columns if col in df_merged.columns]].copy()\n"
   ],
   "outputs": [],
   "execution_count": 104
  },
  {
   "cell_type": "code",
   "id": "e88019ff",
   "metadata": {
    "ExecuteTime": {
     "end_time": "2025-08-03T08:42:04.707935300Z",
     "start_time": "2025-08-03T08:37:51.939628Z"
    }
   },
   "source": "df_final.to_csv('./Weather_Merged_CSVs/Banana.csv', index=False)",
   "outputs": [],
   "execution_count": 105
  }
 ],
 "metadata": {
  "kernelspec": {
   "display_name": ".venv",
   "language": "python",
   "name": "python3"
  },
  "language_info": {
   "codemirror_mode": {
    "name": "ipython",
    "version": 3
   },
   "file_extension": ".py",
   "mimetype": "text/x-python",
   "name": "python",
   "nbconvert_exporter": "python",
   "pygments_lexer": "ipython3",
   "version": "3.12.6"
  }
 },
 "nbformat": 4,
 "nbformat_minor": 5
}
